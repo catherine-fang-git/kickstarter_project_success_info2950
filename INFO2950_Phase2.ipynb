{
 "cells": [
  {
   "cell_type": "markdown",
   "metadata": {},
   "source": [
    "# INFO 2950 Project Phase II"
   ]
  },
  {
   "cell_type": "markdown",
   "metadata": {},
   "source": [
    "Tina Chen (tc663), Catherine Fang (cf533), Vicki Chen (vc332)"
   ]
  },
  {
   "cell_type": "markdown",
   "metadata": {},
   "source": [
    "## Background and Research Questions"
   ]
  },
  {
   "cell_type": "markdown",
   "metadata": {},
   "source": [
    "Kickstarter is a crowdfunding website that allows creators to create fundraising campaigns to fund startups, products, and projects to help them become a reality. Kickstarter campaigns have many factors that can influnce how likely they are to successfully reach their target fundraising goal. These factors include category of the campaign, location the campaign is based in, original currency of the camapaign, and number of backers. The focus of our research is to examine the factors that lead to a campaign being successful to identify any predictors of campaign success, and determine which factors are the best predictors of a campaign's success. \n",
    "\n",
    "The Kickstarter Public Data Dataset we are using has a combination of the publicly available information on past successful and unsuccessful kickstarter projects. The Kickstarter Backers Dataset contains information about the backers of each project. \n",
    "\n",
    "Research Question: Is there a relationship between the success of a Kickstarter campaign and the factors relating to its creation and release?\n",
    "- What is the relationship between the category of the camapaign and the amount successfully fundraised for the campaign\n",
    "  - Which category has the highest success rate?\n",
    "- How does the length of a campaign impact the amount of money raised, regardless of whether or not its successful?\n",
    "  - How does the length of a campaign impact how much a successful campaign exceeds their campaign goal by?\n",
    "- How do Kickstarter campaign success rates compare for US vs Non-US based projects? \n",
    "- How do campaign success rates compare between projects' orignal currencies? \n",
    "  - How does the 'strength' of the original currency compared to USD impact the projects' of that currency's success rate?\n",
    "- How does the fundraising goal impact the amount of money pledged/number of backers/average contribution of backers of successful campaigns?\n",
    "  - How does the location (US vs Non-US) of backers impact how much, on average they are willing to give to campaigns?\n"
   ]
  },
  {
   "cell_type": "markdown",
   "metadata": {},
   "source": [
    "## **Data Description**"
   ]
  },
  {
   "cell_type": "markdown",
   "metadata": {},
   "source": [
    "The attributes (columns) of the dataset are the PID (Project ID), Category (numbers indicating what topic the project falls under), Subcategory (numbers indicating the subtopics within each category), the Project Location Name, State, County, and Country. Other relevant attributes included are the Project Currency, the Project’s Original Goal (how much money the creators were aiming for), amount of money pledged, the number of backers, the launched date, deadline date, and state. State is defined as either suspended (funding for a project is stopped when the project violates Kickstarter’s rules), canceled (the creators of a project dropped the project themselves), failed (the project didn’t meet funding goals), and successful (project meets funding goals). Each observation (row) corresponds to one unique project, indexed with a CaseID.\n",
    "\n",
    "The raw dataset was created by Jonathan Leland, Kickstarter’s Head of Insights for a cross-sectional study on the different creative projects that seek crowdfunding. He created the dataset to observe data on the projects from Kickstarter. \n",
    "\n",
    "The creation of this dataset is funded by Kickstarter Data, the company crowdfunding platform that directs the Kickstarter Project. The study is distributed through the Inter-University Consortium for Political and Social Research (ICPSR). \n",
    "\n",
    "Some columns were presented as optional for users to fill out, so in the raw data there are some rows with missing values. For example, for the PROJECT_LOCATION_STATE, PROJECT_LOCATION_COUNTY, PROJECT_LOCATION_COUNTRY column, there are rows with blank values. However, there are no missing values in the PROJECT_LOCATION_NAME, meaning that the project creators were required to put down the location name for their project. \n",
    "\n",
    "ICPSR processed the data by creating variable/value labels, creating an online analysis version with question text, and \n",
    "checked the data for undocumented or out-of-range codes. In addition, several restrictions were placed on the data before releasing it for public use to ensure survey participant anonymity. The data was split into a public-use file, a restricted-use file, and file containing information on the backers of campaigns. \n",
    "\n",
    "ICPSR datasets are checked for condidentiality of survey participants. The names of the people/groups who created past Kickstarter projects (NAME) and the links to their projects’ websites (URL_NAME), and the descriptions of their projects (BLURB) are not shown in the public data set that was used as the raw dataset for this project. This ensures anonymity of survey participants and prevents disclosure risk from survey participants.\n",
    "\n",
    "Raw Data was collected by downloading the delimited data from the study at this link, https://www.icpsr.umich.edu/web/ICPSR/studies/38050/summary and Git Large Language Storage was used to upload the raw files onto Github. "
   ]
  },
  {
   "cell_type": "markdown",
   "metadata": {},
   "source": [
    "## **Data Cleaning**"
   ]
  },
  {
   "cell_type": "markdown",
   "metadata": {},
   "source": [
    "Data cleaning was done to create a dataset from the raw data for analysis. After opening the original public_data tsv file, we observed that several variables were not available publicly and were only available in the restricted dataset which we did not have access to. These variables include NAME, URL_NAME, and PROJECT_PAGE_LOCATION_COUNTRY. In addition, there were some rows that had missing values, particularly in the PROJECT_PAGE_LOCATION_STATE, and PROJECT_PAGE_LOCATION_COUNTY columns which may indicate that these are user-inputs that are optional. These columns were dropped.\n"
   ]
  },
  {
   "cell_type": "code",
   "execution_count": 50,
   "metadata": {},
   "outputs": [],
   "source": [
    "import pandas as pd\n",
    "import numpy as np\n",
    "import matplotlib.pyplot as plt\n",
    "from sklearn.linear_model import LinearRegression, LogisticRegression \n",
    "import seaborn as sns\n",
    "import duckdb\n",
    "import datetime\n",
    "##import timedelta"
   ]
  },
  {
   "cell_type": "markdown",
   "metadata": {},
   "source": [
    "We imported the data and printed out the first 5 rows to view the columns provided by the dataset."
   ]
  },
  {
   "cell_type": "code",
   "execution_count": 51,
   "metadata": {},
   "outputs": [
    {
     "name": "stderr",
     "output_type": "stream",
     "text": [
      "/var/folders/wp/nn2_qt4x0p96hfrk7plld7hw0000gn/T/ipykernel_56975/4156237419.py:1: DtypeWarning: Columns (9,11,15) have mixed types. Specify dtype option on import or set low_memory=False.\n",
      "  public_data = pd.read_csv('data/public_data.tsv', delimiter='\\t')\n"
     ]
    },
    {
     "data": {
      "text/html": [
       "<div>\n",
       "<style scoped>\n",
       "    .dataframe tbody tr th:only-of-type {\n",
       "        vertical-align: middle;\n",
       "    }\n",
       "\n",
       "    .dataframe tbody tr th {\n",
       "        vertical-align: top;\n",
       "    }\n",
       "\n",
       "    .dataframe thead th {\n",
       "        text-align: right;\n",
       "    }\n",
       "</style>\n",
       "<table border=\"1\" class=\"dataframe\">\n",
       "  <thead>\n",
       "    <tr style=\"text-align: right;\">\n",
       "      <th></th>\n",
       "      <th>CASEID</th>\n",
       "      <th>NAME</th>\n",
       "      <th>PID</th>\n",
       "      <th>CATEGORY</th>\n",
       "      <th>SUBCATEGORY</th>\n",
       "      <th>PROJECT_PAGE_LOCATION_NAME</th>\n",
       "      <th>PROJECT_PAGE_LOCATION_STATE</th>\n",
       "      <th>PROJECT_PAGE_LOCATION_COUNTY</th>\n",
       "      <th>PROJECT_PAGE_LOCATION_COUNTRY</th>\n",
       "      <th>UID</th>\n",
       "      <th>PROJECT_CURRENCY</th>\n",
       "      <th>GOAL_IN_ORIGINAL_CURRENCY</th>\n",
       "      <th>PLEDGED_IN_ORIGINAL_CURRENCY</th>\n",
       "      <th>GOAL_IN_USD</th>\n",
       "      <th>PLEDGED_IN_USD</th>\n",
       "      <th>BACKERS_COUNT</th>\n",
       "      <th>LAUNCHED_DATE</th>\n",
       "      <th>DEADLINE_DATE</th>\n",
       "      <th>STATE</th>\n",
       "      <th>URL_NAME</th>\n",
       "    </tr>\n",
       "  </thead>\n",
       "  <tbody>\n",
       "    <tr>\n",
       "      <th>0</th>\n",
       "      <td>1</td>\n",
       "      <td>MASKED BY ICPSR</td>\n",
       "      <td>2137925650</td>\n",
       "      <td>11</td>\n",
       "      <td>301</td>\n",
       "      <td>London</td>\n",
       "      <td>England</td>\n",
       "      <td>Greater London</td>\n",
       "      <td></td>\n",
       "      <td>1076478145</td>\n",
       "      <td>USD</td>\n",
       "      <td>100,000,000</td>\n",
       "      <td>0</td>\n",
       "      <td>$100,000,000</td>\n",
       "      <td>$0</td>\n",
       "      <td>0</td>\n",
       "      <td>8/11/2016</td>\n",
       "      <td>10/10/2016</td>\n",
       "      <td>canceled</td>\n",
       "      <td>MASKED BY ICPSR</td>\n",
       "    </tr>\n",
       "    <tr>\n",
       "      <th>1</th>\n",
       "      <td>2</td>\n",
       "      <td>MASKED BY ICPSR</td>\n",
       "      <td>1501531085</td>\n",
       "      <td>11</td>\n",
       "      <td>296</td>\n",
       "      <td>Los Angeles</td>\n",
       "      <td>CA</td>\n",
       "      <td>Los Angeles</td>\n",
       "      <td></td>\n",
       "      <td>224946798</td>\n",
       "      <td>USD</td>\n",
       "      <td>100,000,000</td>\n",
       "      <td>85</td>\n",
       "      <td>$100,000,000</td>\n",
       "      <td>$85</td>\n",
       "      <td>4</td>\n",
       "      <td>12/19/2019</td>\n",
       "      <td>2/14/2020</td>\n",
       "      <td>canceled</td>\n",
       "      <td>MASKED BY ICPSR</td>\n",
       "    </tr>\n",
       "    <tr>\n",
       "      <th>2</th>\n",
       "      <td>3</td>\n",
       "      <td>MASKED BY ICPSR</td>\n",
       "      <td>953415668</td>\n",
       "      <td>16</td>\n",
       "      <td>51</td>\n",
       "      <td>Mexico</td>\n",
       "      <td>Baja California</td>\n",
       "      <td>Tijuana</td>\n",
       "      <td></td>\n",
       "      <td>1772203542</td>\n",
       "      <td>MXN</td>\n",
       "      <td>100,000,000</td>\n",
       "      <td>10</td>\n",
       "      <td>$5,219,374</td>\n",
       "      <td>$1</td>\n",
       "      <td>1</td>\n",
       "      <td>3/1/2017</td>\n",
       "      <td>3/22/2017</td>\n",
       "      <td>failed</td>\n",
       "      <td>MASKED BY ICPSR</td>\n",
       "    </tr>\n",
       "    <tr>\n",
       "      <th>3</th>\n",
       "      <td>4</td>\n",
       "      <td>MASKED BY ICPSR</td>\n",
       "      <td>1371386304</td>\n",
       "      <td>18</td>\n",
       "      <td>18</td>\n",
       "      <td>Columbus</td>\n",
       "      <td>OH</td>\n",
       "      <td>Franklin</td>\n",
       "      <td></td>\n",
       "      <td>1373465389</td>\n",
       "      <td>USD</td>\n",
       "      <td>100,000,000</td>\n",
       "      <td>1</td>\n",
       "      <td>$100,000,000</td>\n",
       "      <td>$1</td>\n",
       "      <td>1</td>\n",
       "      <td>6/4/2018</td>\n",
       "      <td>7/5/2018</td>\n",
       "      <td>canceled</td>\n",
       "      <td>MASKED BY ICPSR</td>\n",
       "    </tr>\n",
       "    <tr>\n",
       "      <th>4</th>\n",
       "      <td>5</td>\n",
       "      <td>MASKED BY ICPSR</td>\n",
       "      <td>1720842777</td>\n",
       "      <td>1</td>\n",
       "      <td>22</td>\n",
       "      <td>Toronto</td>\n",
       "      <td>ON</td>\n",
       "      <td>Toronto</td>\n",
       "      <td></td>\n",
       "      <td>1455666383</td>\n",
       "      <td>CAD</td>\n",
       "      <td>100,000,000</td>\n",
       "      <td>0</td>\n",
       "      <td>$80,610,122</td>\n",
       "      <td>$0</td>\n",
       "      <td>0</td>\n",
       "      <td>5/1/2015</td>\n",
       "      <td>6/30/2015</td>\n",
       "      <td>failed</td>\n",
       "      <td>MASKED BY ICPSR</td>\n",
       "    </tr>\n",
       "  </tbody>\n",
       "</table>\n",
       "</div>"
      ],
      "text/plain": [
       "   CASEID             NAME         PID  CATEGORY  SUBCATEGORY  \\\n",
       "0       1  MASKED BY ICPSR  2137925650        11          301   \n",
       "1       2  MASKED BY ICPSR  1501531085        11          296   \n",
       "2       3  MASKED BY ICPSR   953415668        16           51   \n",
       "3       4  MASKED BY ICPSR  1371386304        18           18   \n",
       "4       5  MASKED BY ICPSR  1720842777         1           22   \n",
       "\n",
       "  PROJECT_PAGE_LOCATION_NAME PROJECT_PAGE_LOCATION_STATE  \\\n",
       "0                     London                     England   \n",
       "1                Los Angeles                          CA   \n",
       "2                     Mexico             Baja California   \n",
       "3                   Columbus                          OH   \n",
       "4                    Toronto                          ON   \n",
       "\n",
       "  PROJECT_PAGE_LOCATION_COUNTY PROJECT_PAGE_LOCATION_COUNTRY         UID  \\\n",
       "0               Greater London                                1076478145   \n",
       "1                  Los Angeles                                 224946798   \n",
       "2                      Tijuana                                1772203542   \n",
       "3                     Franklin                                1373465389   \n",
       "4                      Toronto                                1455666383   \n",
       "\n",
       "  PROJECT_CURRENCY GOAL_IN_ORIGINAL_CURRENCY PLEDGED_IN_ORIGINAL_CURRENCY  \\\n",
       "0              USD               100,000,000                            0   \n",
       "1              USD               100,000,000                           85   \n",
       "2              MXN               100,000,000                           10   \n",
       "3              USD               100,000,000                            1   \n",
       "4              CAD               100,000,000                            0   \n",
       "\n",
       "    GOAL_IN_USD PLEDGED_IN_USD BACKERS_COUNT LAUNCHED_DATE DEADLINE_DATE  \\\n",
       "0  $100,000,000             $0             0     8/11/2016    10/10/2016   \n",
       "1  $100,000,000            $85             4    12/19/2019     2/14/2020   \n",
       "2    $5,219,374             $1             1      3/1/2017     3/22/2017   \n",
       "3  $100,000,000             $1             1      6/4/2018      7/5/2018   \n",
       "4   $80,610,122             $0             0      5/1/2015     6/30/2015   \n",
       "\n",
       "      STATE         URL_NAME  \n",
       "0  canceled  MASKED BY ICPSR  \n",
       "1  canceled  MASKED BY ICPSR  \n",
       "2    failed  MASKED BY ICPSR  \n",
       "3  canceled  MASKED BY ICPSR  \n",
       "4    failed  MASKED BY ICPSR  "
      ]
     },
     "execution_count": 51,
     "metadata": {},
     "output_type": "execute_result"
    }
   ],
   "source": [
    "public_data = pd.read_csv('data/public_data.tsv', delimiter='\\t')\n",
    "public_data.head()"
   ]
  },
  {
   "cell_type": "markdown",
   "metadata": {},
   "source": [
    "We checked for duplicates in the public_data.tsv dataset by selecting the rows that appeared more than once according to the unique PID. Since there are no rows that appeared more than once, we know that there is no duplicate PIDs in the dataset."
   ]
  },
  {
   "cell_type": "code",
   "execution_count": 52,
   "metadata": {},
   "outputs": [
    {
     "data": {
      "text/html": [
       "<div>\n",
       "<style scoped>\n",
       "    .dataframe tbody tr th:only-of-type {\n",
       "        vertical-align: middle;\n",
       "    }\n",
       "\n",
       "    .dataframe tbody tr th {\n",
       "        vertical-align: top;\n",
       "    }\n",
       "\n",
       "    .dataframe thead th {\n",
       "        text-align: right;\n",
       "    }\n",
       "</style>\n",
       "<table border=\"1\" class=\"dataframe\">\n",
       "  <thead>\n",
       "    <tr style=\"text-align: right;\">\n",
       "      <th></th>\n",
       "      <th>PID</th>\n",
       "      <th>count(PID)</th>\n",
       "    </tr>\n",
       "  </thead>\n",
       "  <tbody>\n",
       "  </tbody>\n",
       "</table>\n",
       "</div>"
      ],
      "text/plain": [
       "Empty DataFrame\n",
       "Columns: [PID, count(PID)]\n",
       "Index: []"
      ]
     },
     "execution_count": 52,
     "metadata": {},
     "output_type": "execute_result"
    }
   ],
   "source": [
    "duckdb.sql(\"SELECT PID, COUNT(PID) FROM public_data GROUP BY PID HAVING COUNT(PID) > 1\").df()"
   ]
  },
  {
   "cell_type": "markdown",
   "metadata": {},
   "source": [
    "We dropped the following columns: NAME, PROJECT_PAGE_LOCATION_COUNTRY, and URL_NAME since they contained restricted information that wasn't available to the public. We also dropped the PROJECT_PAGE_LOCATION_STATE and PROJECT_PAGE_LOCATION_COUNTY since they were prone to user-input error and it is not plausible to clean all 600,000+ entries manually.\n",
    "\n",
    "We also dropped the UID, and the rows that are not successful or failed (canceled or suspended). By definition, a canceled project is one that the project leader has stopped voluntarily and a suspended project is one that was taken down by KickStarter moderators for violating their terms of service or other policies.\n",
    "\n",
    "We chose to drop the canceled and suspended projects since we do not have further information regarding why they were canceled or suspended, since we do not have access to the project's name or url in the public dataset available to us. We could not make use of canceled or suspended projects in our research question either, since cancellations and suspensions of a campaign are subject to individual's decisions and frequently changing Kickstarter terms and conditions/policies which may vary from individual to individual/year to year."
   ]
  },
  {
   "cell_type": "code",
   "execution_count": 53,
   "metadata": {},
   "outputs": [
    {
     "data": {
      "text/html": [
       "<div>\n",
       "<style scoped>\n",
       "    .dataframe tbody tr th:only-of-type {\n",
       "        vertical-align: middle;\n",
       "    }\n",
       "\n",
       "    .dataframe tbody tr th {\n",
       "        vertical-align: top;\n",
       "    }\n",
       "\n",
       "    .dataframe thead th {\n",
       "        text-align: right;\n",
       "    }\n",
       "</style>\n",
       "<table border=\"1\" class=\"dataframe\">\n",
       "  <thead>\n",
       "    <tr style=\"text-align: right;\">\n",
       "      <th></th>\n",
       "      <th>CASEID</th>\n",
       "      <th>PID</th>\n",
       "      <th>CATEGORY</th>\n",
       "      <th>SUBCATEGORY</th>\n",
       "      <th>PROJECT_PAGE_LOCATION_NAME</th>\n",
       "      <th>PROJECT_CURRENCY</th>\n",
       "      <th>GOAL_IN_ORIGINAL_CURRENCY</th>\n",
       "      <th>PLEDGED_IN_ORIGINAL_CURRENCY</th>\n",
       "      <th>GOAL_IN_USD</th>\n",
       "      <th>PLEDGED_IN_USD</th>\n",
       "      <th>BACKERS_COUNT</th>\n",
       "      <th>LAUNCHED_DATE</th>\n",
       "      <th>DEADLINE_DATE</th>\n",
       "      <th>STATE</th>\n",
       "    </tr>\n",
       "  </thead>\n",
       "  <tbody>\n",
       "    <tr>\n",
       "      <th>0</th>\n",
       "      <td>56</td>\n",
       "      <td>128197700</td>\n",
       "      <td>12</td>\n",
       "      <td>35</td>\n",
       "      <td>Osaka</td>\n",
       "      <td>JPY</td>\n",
       "      <td>68,000,000</td>\n",
       "      <td>81,030,744</td>\n",
       "      <td>$623,968</td>\n",
       "      <td>$743,538</td>\n",
       "      <td>12613</td>\n",
       "      <td>3/26/2018</td>\n",
       "      <td>5/5/2018</td>\n",
       "      <td>successful</td>\n",
       "    </tr>\n",
       "    <tr>\n",
       "      <th>1</th>\n",
       "      <td>63</td>\n",
       "      <td>1900597540</td>\n",
       "      <td>12</td>\n",
       "      <td>35</td>\n",
       "      <td>Tokyo</td>\n",
       "      <td>JPY</td>\n",
       "      <td>53,808,516</td>\n",
       "      <td>481,621,841</td>\n",
       "      <td>$510,735</td>\n",
       "      <td>$4,571,420</td>\n",
       "      <td>46307</td>\n",
       "      <td>7/27/2020</td>\n",
       "      <td>8/29/2020</td>\n",
       "      <td>successful</td>\n",
       "    </tr>\n",
       "    <tr>\n",
       "      <th>2</th>\n",
       "      <td>83</td>\n",
       "      <td>1012629901</td>\n",
       "      <td>12</td>\n",
       "      <td>35</td>\n",
       "      <td>Ishikawa</td>\n",
       "      <td>JPY</td>\n",
       "      <td>45,000,000</td>\n",
       "      <td>98,863,825</td>\n",
       "      <td>$414,327</td>\n",
       "      <td>$910,266</td>\n",
       "      <td>8051</td>\n",
       "      <td>6/3/2019</td>\n",
       "      <td>6/11/2019</td>\n",
       "      <td>successful</td>\n",
       "    </tr>\n",
       "    <tr>\n",
       "      <th>3</th>\n",
       "      <td>175</td>\n",
       "      <td>596722349</td>\n",
       "      <td>12</td>\n",
       "      <td>35</td>\n",
       "      <td>Chiba-shi</td>\n",
       "      <td>JPY</td>\n",
       "      <td>16,665,000</td>\n",
       "      <td>23,606,140</td>\n",
       "      <td>$148,285</td>\n",
       "      <td>$210,047</td>\n",
       "      <td>1705</td>\n",
       "      <td>9/20/2018</td>\n",
       "      <td>10/20/2018</td>\n",
       "      <td>successful</td>\n",
       "    </tr>\n",
       "    <tr>\n",
       "      <th>4</th>\n",
       "      <td>184</td>\n",
       "      <td>2056420743</td>\n",
       "      <td>16</td>\n",
       "      <td>337</td>\n",
       "      <td>Tokyo</td>\n",
       "      <td>JPY</td>\n",
       "      <td>15,000,000</td>\n",
       "      <td>17,406,300</td>\n",
       "      <td>$133,229</td>\n",
       "      <td>$154,601</td>\n",
       "      <td>656</td>\n",
       "      <td>10/7/2017</td>\n",
       "      <td>12/6/2017</td>\n",
       "      <td>successful</td>\n",
       "    </tr>\n",
       "  </tbody>\n",
       "</table>\n",
       "</div>"
      ],
      "text/plain": [
       "   CASEID         PID  CATEGORY  SUBCATEGORY PROJECT_PAGE_LOCATION_NAME  \\\n",
       "0      56   128197700        12           35                      Osaka   \n",
       "1      63  1900597540        12           35                      Tokyo   \n",
       "2      83  1012629901        12           35                   Ishikawa   \n",
       "3     175   596722349        12           35                  Chiba-shi   \n",
       "4     184  2056420743        16          337                      Tokyo   \n",
       "\n",
       "  PROJECT_CURRENCY GOAL_IN_ORIGINAL_CURRENCY PLEDGED_IN_ORIGINAL_CURRENCY  \\\n",
       "0              JPY                68,000,000                   81,030,744   \n",
       "1              JPY                53,808,516                  481,621,841   \n",
       "2              JPY                45,000,000                   98,863,825   \n",
       "3              JPY                16,665,000                   23,606,140   \n",
       "4              JPY                15,000,000                   17,406,300   \n",
       "\n",
       "  GOAL_IN_USD PLEDGED_IN_USD BACKERS_COUNT LAUNCHED_DATE DEADLINE_DATE  \\\n",
       "0    $623,968       $743,538         12613     3/26/2018      5/5/2018   \n",
       "1    $510,735     $4,571,420         46307     7/27/2020     8/29/2020   \n",
       "2    $414,327       $910,266          8051      6/3/2019     6/11/2019   \n",
       "3    $148,285       $210,047          1705     9/20/2018    10/20/2018   \n",
       "4    $133,229       $154,601           656     10/7/2017     12/6/2017   \n",
       "\n",
       "        STATE  \n",
       "0  successful  \n",
       "1  successful  \n",
       "2  successful  \n",
       "3  successful  \n",
       "4  successful  "
      ]
     },
     "execution_count": 53,
     "metadata": {},
     "output_type": "execute_result"
    }
   ],
   "source": [
    "public_data_df = pd.DataFrame(public_data)\n",
    "clean_data = public_data_df.drop(columns = [\"NAME\", \"PROJECT_PAGE_LOCATION_COUNTRY\", \"URL_NAME\", \"UID\", \"PROJECT_PAGE_LOCATION_STATE\", \"PROJECT_PAGE_LOCATION_COUNTY\"])\n",
    "\n",
    "clean_data = duckdb.sql(\"SELECT * FROM clean_data WHERE STATE = 'successful' OR STATE = 'failed'\").df()\n",
    "clean_data.head()"
   ]
  },
  {
   "cell_type": "markdown",
   "metadata": {},
   "source": [
    "We also changed all the numerical string values in the dataframe into integers for us to work with. "
   ]
  },
  {
   "cell_type": "code",
   "execution_count": 54,
   "metadata": {},
   "outputs": [
    {
     "name": "stderr",
     "output_type": "stream",
     "text": [
      "<>:3: SyntaxWarning: invalid escape sequence '\\$'\n",
      "<>:4: SyntaxWarning: invalid escape sequence '\\$'\n",
      "<>:3: SyntaxWarning: invalid escape sequence '\\$'\n",
      "<>:4: SyntaxWarning: invalid escape sequence '\\$'\n",
      "/var/folders/wp/nn2_qt4x0p96hfrk7plld7hw0000gn/T/ipykernel_56975/478761548.py:3: SyntaxWarning: invalid escape sequence '\\$'\n",
      "  clean_data[\"GOAL_IN_USD\"] = clean_data[\"GOAL_IN_USD\"].replace({'[\\$]': '',',': ''}, regex=True).astype(int)\n",
      "/var/folders/wp/nn2_qt4x0p96hfrk7plld7hw0000gn/T/ipykernel_56975/478761548.py:4: SyntaxWarning: invalid escape sequence '\\$'\n",
      "  clean_data[\"PLEDGED_IN_USD\"] = clean_data[\"PLEDGED_IN_USD\"].replace({'[\\$]': '',',': ''}, regex=True).astype(int)\n"
     ]
    },
    {
     "data": {
      "text/html": [
       "<div>\n",
       "<style scoped>\n",
       "    .dataframe tbody tr th:only-of-type {\n",
       "        vertical-align: middle;\n",
       "    }\n",
       "\n",
       "    .dataframe tbody tr th {\n",
       "        vertical-align: top;\n",
       "    }\n",
       "\n",
       "    .dataframe thead th {\n",
       "        text-align: right;\n",
       "    }\n",
       "</style>\n",
       "<table border=\"1\" class=\"dataframe\">\n",
       "  <thead>\n",
       "    <tr style=\"text-align: right;\">\n",
       "      <th></th>\n",
       "      <th>CASEID</th>\n",
       "      <th>PID</th>\n",
       "      <th>CATEGORY</th>\n",
       "      <th>SUBCATEGORY</th>\n",
       "      <th>PROJECT_PAGE_LOCATION_NAME</th>\n",
       "      <th>PROJECT_CURRENCY</th>\n",
       "      <th>GOAL_IN_ORIGINAL_CURRENCY</th>\n",
       "      <th>PLEDGED_IN_ORIGINAL_CURRENCY</th>\n",
       "      <th>GOAL_IN_USD</th>\n",
       "      <th>PLEDGED_IN_USD</th>\n",
       "      <th>BACKERS_COUNT</th>\n",
       "      <th>LAUNCHED_DATE</th>\n",
       "      <th>DEADLINE_DATE</th>\n",
       "      <th>STATE</th>\n",
       "    </tr>\n",
       "  </thead>\n",
       "  <tbody>\n",
       "    <tr>\n",
       "      <th>0</th>\n",
       "      <td>56</td>\n",
       "      <td>128197700</td>\n",
       "      <td>12</td>\n",
       "      <td>35</td>\n",
       "      <td>Osaka</td>\n",
       "      <td>JPY</td>\n",
       "      <td>68000000</td>\n",
       "      <td>81030744</td>\n",
       "      <td>623968</td>\n",
       "      <td>743538</td>\n",
       "      <td>12613</td>\n",
       "      <td>3/26/2018</td>\n",
       "      <td>5/5/2018</td>\n",
       "      <td>successful</td>\n",
       "    </tr>\n",
       "    <tr>\n",
       "      <th>1</th>\n",
       "      <td>63</td>\n",
       "      <td>1900597540</td>\n",
       "      <td>12</td>\n",
       "      <td>35</td>\n",
       "      <td>Tokyo</td>\n",
       "      <td>JPY</td>\n",
       "      <td>53808516</td>\n",
       "      <td>481621841</td>\n",
       "      <td>510735</td>\n",
       "      <td>4571420</td>\n",
       "      <td>46307</td>\n",
       "      <td>7/27/2020</td>\n",
       "      <td>8/29/2020</td>\n",
       "      <td>successful</td>\n",
       "    </tr>\n",
       "    <tr>\n",
       "      <th>2</th>\n",
       "      <td>83</td>\n",
       "      <td>1012629901</td>\n",
       "      <td>12</td>\n",
       "      <td>35</td>\n",
       "      <td>Ishikawa</td>\n",
       "      <td>JPY</td>\n",
       "      <td>45000000</td>\n",
       "      <td>98863825</td>\n",
       "      <td>414327</td>\n",
       "      <td>910266</td>\n",
       "      <td>8051</td>\n",
       "      <td>6/3/2019</td>\n",
       "      <td>6/11/2019</td>\n",
       "      <td>successful</td>\n",
       "    </tr>\n",
       "    <tr>\n",
       "      <th>3</th>\n",
       "      <td>175</td>\n",
       "      <td>596722349</td>\n",
       "      <td>12</td>\n",
       "      <td>35</td>\n",
       "      <td>Chiba-shi</td>\n",
       "      <td>JPY</td>\n",
       "      <td>16665000</td>\n",
       "      <td>23606140</td>\n",
       "      <td>148285</td>\n",
       "      <td>210047</td>\n",
       "      <td>1705</td>\n",
       "      <td>9/20/2018</td>\n",
       "      <td>10/20/2018</td>\n",
       "      <td>successful</td>\n",
       "    </tr>\n",
       "    <tr>\n",
       "      <th>4</th>\n",
       "      <td>184</td>\n",
       "      <td>2056420743</td>\n",
       "      <td>16</td>\n",
       "      <td>337</td>\n",
       "      <td>Tokyo</td>\n",
       "      <td>JPY</td>\n",
       "      <td>15000000</td>\n",
       "      <td>17406300</td>\n",
       "      <td>133229</td>\n",
       "      <td>154601</td>\n",
       "      <td>656</td>\n",
       "      <td>10/7/2017</td>\n",
       "      <td>12/6/2017</td>\n",
       "      <td>successful</td>\n",
       "    </tr>\n",
       "  </tbody>\n",
       "</table>\n",
       "</div>"
      ],
      "text/plain": [
       "   CASEID         PID  CATEGORY  SUBCATEGORY PROJECT_PAGE_LOCATION_NAME  \\\n",
       "0      56   128197700        12           35                      Osaka   \n",
       "1      63  1900597540        12           35                      Tokyo   \n",
       "2      83  1012629901        12           35                   Ishikawa   \n",
       "3     175   596722349        12           35                  Chiba-shi   \n",
       "4     184  2056420743        16          337                      Tokyo   \n",
       "\n",
       "  PROJECT_CURRENCY  GOAL_IN_ORIGINAL_CURRENCY  PLEDGED_IN_ORIGINAL_CURRENCY  \\\n",
       "0              JPY                   68000000                      81030744   \n",
       "1              JPY                   53808516                     481621841   \n",
       "2              JPY                   45000000                      98863825   \n",
       "3              JPY                   16665000                      23606140   \n",
       "4              JPY                   15000000                      17406300   \n",
       "\n",
       "   GOAL_IN_USD  PLEDGED_IN_USD BACKERS_COUNT LAUNCHED_DATE DEADLINE_DATE  \\\n",
       "0       623968          743538         12613     3/26/2018      5/5/2018   \n",
       "1       510735         4571420         46307     7/27/2020     8/29/2020   \n",
       "2       414327          910266          8051      6/3/2019     6/11/2019   \n",
       "3       148285          210047          1705     9/20/2018    10/20/2018   \n",
       "4       133229          154601           656     10/7/2017     12/6/2017   \n",
       "\n",
       "        STATE  \n",
       "0  successful  \n",
       "1  successful  \n",
       "2  successful  \n",
       "3  successful  \n",
       "4  successful  "
      ]
     },
     "execution_count": 54,
     "metadata": {},
     "output_type": "execute_result"
    }
   ],
   "source": [
    "clean_data[\"GOAL_IN_ORIGINAL_CURRENCY\"] = clean_data[\"GOAL_IN_ORIGINAL_CURRENCY\"].replace({',': ''}, regex=True).astype(int)\n",
    "clean_data[\"PLEDGED_IN_ORIGINAL_CURRENCY\"] = clean_data[\"PLEDGED_IN_ORIGINAL_CURRENCY\"].replace({',': ''}, regex=True).astype(int)\n",
    "clean_data[\"GOAL_IN_USD\"] = clean_data[\"GOAL_IN_USD\"].replace({'[\\$]': '',',': ''}, regex=True).astype(int)\n",
    "clean_data[\"PLEDGED_IN_USD\"] = clean_data[\"PLEDGED_IN_USD\"].replace({'[\\$]': '',',': ''}, regex=True).astype(int)\n",
    "clean_data.head()"
   ]
  },
  {
   "cell_type": "markdown",
   "metadata": {},
   "source": [
    "We also checked for NaaN values by checking if there were any rows where the BACKERS_COUNT is null and if it was an empty string. We didn't realize until we started creating scatterplots that there were other inputs like Strings containg a single space that were still lying in our data. \n",
    "\n",
    "We also checked for oddities and outliers. For instance, we found rows where the BACKERS_COUNT variable was Null so we cross examined what values the identified rows' PLEDGED_IN_ORIGINAL_CURRENCY columns had to see if the value was 0 or was not 0. If it was 0, then we replaced the NaaN values with 0 since we can assume the number of backers is 0 since no money was pledged by no people. \n",
    "\n",
    "*** Need to decide what to do with the NaN values that have non-zero values in their PLEDGED_IN_ORIGINAL_CURRENCY column."
   ]
  },
  {
   "cell_type": "code",
   "execution_count": 55,
   "metadata": {},
   "outputs": [
    {
     "name": "stdout",
     "output_type": "stream",
     "text": [
      "The number of rows where BACKERS_COUNT is Null: 0\n",
      "The number of rows where BACKERS_COUNT is an Empty String: 0\n",
      "The number of rows where BACKERS_COUNT is a String containing a space: 56\n",
      "Cleaned the rows that contained a String with a single space\n",
      "The number of rows where BACKERS_COUNT is a String containing a space: 0\n"
     ]
    }
   ],
   "source": [
    "backers_count_null = duckdb.sql(\"SELECT * FROM clean_data WHERE BACKERS_COUNT IS NULL \").df()\n",
    "print(\"The number of rows where BACKERS_COUNT is Null: \" + str(len(backers_count_null)))\n",
    "\n",
    "backers_count_null = duckdb.sql(\"SELECT * FROM clean_data WHERE BACKERS_COUNT = ''  \").df()\n",
    "print(\"The number of rows where BACKERS_COUNT is an Empty String: \" + str(len(backers_count_null)))\n",
    "\n",
    "backers_count_null = duckdb.sql(\"SELECT * FROM clean_data WHERE BACKERS_COUNT = ' ' \").df()\n",
    "print(\"The number of rows where BACKERS_COUNT is a String containing a space: \" + str(len(backers_count_null)))\n",
    "\n",
    "clean_data = duckdb.sql(\"SELECT * FROM clean_data WHERE NOT BACKERS_COUNT = ' '\").df()\n",
    "print(\"Cleaned the rows that contained a String with a single space\")\n",
    "\n",
    "backers_count_null = duckdb.sql(\"SELECT * FROM clean_data WHERE BACKERS_COUNT = ' ' \").df()\n",
    "print(\"The number of rows where BACKERS_COUNT is a String containing a space: \" + str(len(backers_count_null)))\n",
    "clean_data[\"BACKERS_COUNT\"] = clean_data[\"BACKERS_COUNT\"].astype(int)"
   ]
  },
  {
   "cell_type": "markdown",
   "metadata": {},
   "source": [
    "We converted the LAUNCHED_DATE and DEADLINE_DATE to datetime objects so we could do math with the two dates to get the length of each campaign.\n",
    "\n",
    "We then calculated the difference between the DEADLINE_DATE and LAUNCHED_DATE to get the in days that each project fundraiser ran for and added it as a new column to the clean_data. "
   ]
  },
  {
   "cell_type": "code",
   "execution_count": 56,
   "metadata": {},
   "outputs": [
    {
     "data": {
      "text/html": [
       "<div>\n",
       "<style scoped>\n",
       "    .dataframe tbody tr th:only-of-type {\n",
       "        vertical-align: middle;\n",
       "    }\n",
       "\n",
       "    .dataframe tbody tr th {\n",
       "        vertical-align: top;\n",
       "    }\n",
       "\n",
       "    .dataframe thead th {\n",
       "        text-align: right;\n",
       "    }\n",
       "</style>\n",
       "<table border=\"1\" class=\"dataframe\">\n",
       "  <thead>\n",
       "    <tr style=\"text-align: right;\">\n",
       "      <th></th>\n",
       "      <th>CASEID</th>\n",
       "      <th>PID</th>\n",
       "      <th>CATEGORY</th>\n",
       "      <th>SUBCATEGORY</th>\n",
       "      <th>PROJECT_PAGE_LOCATION_NAME</th>\n",
       "      <th>PROJECT_CURRENCY</th>\n",
       "      <th>GOAL_IN_ORIGINAL_CURRENCY</th>\n",
       "      <th>PLEDGED_IN_ORIGINAL_CURRENCY</th>\n",
       "      <th>GOAL_IN_USD</th>\n",
       "      <th>PLEDGED_IN_USD</th>\n",
       "      <th>BACKERS_COUNT</th>\n",
       "      <th>LAUNCHED_DATE</th>\n",
       "      <th>DEADLINE_DATE</th>\n",
       "      <th>STATE</th>\n",
       "      <th>time_difference_days</th>\n",
       "    </tr>\n",
       "  </thead>\n",
       "  <tbody>\n",
       "    <tr>\n",
       "      <th>0</th>\n",
       "      <td>56</td>\n",
       "      <td>128197700</td>\n",
       "      <td>12</td>\n",
       "      <td>35</td>\n",
       "      <td>Osaka</td>\n",
       "      <td>JPY</td>\n",
       "      <td>68000000</td>\n",
       "      <td>81030744</td>\n",
       "      <td>623968</td>\n",
       "      <td>743538</td>\n",
       "      <td>12613</td>\n",
       "      <td>2018-03-26</td>\n",
       "      <td>2018-05-05</td>\n",
       "      <td>successful</td>\n",
       "      <td>40</td>\n",
       "    </tr>\n",
       "    <tr>\n",
       "      <th>1</th>\n",
       "      <td>63</td>\n",
       "      <td>1900597540</td>\n",
       "      <td>12</td>\n",
       "      <td>35</td>\n",
       "      <td>Tokyo</td>\n",
       "      <td>JPY</td>\n",
       "      <td>53808516</td>\n",
       "      <td>481621841</td>\n",
       "      <td>510735</td>\n",
       "      <td>4571420</td>\n",
       "      <td>46307</td>\n",
       "      <td>2020-07-27</td>\n",
       "      <td>2020-08-29</td>\n",
       "      <td>successful</td>\n",
       "      <td>33</td>\n",
       "    </tr>\n",
       "    <tr>\n",
       "      <th>2</th>\n",
       "      <td>83</td>\n",
       "      <td>1012629901</td>\n",
       "      <td>12</td>\n",
       "      <td>35</td>\n",
       "      <td>Ishikawa</td>\n",
       "      <td>JPY</td>\n",
       "      <td>45000000</td>\n",
       "      <td>98863825</td>\n",
       "      <td>414327</td>\n",
       "      <td>910266</td>\n",
       "      <td>8051</td>\n",
       "      <td>2019-06-03</td>\n",
       "      <td>2019-06-11</td>\n",
       "      <td>successful</td>\n",
       "      <td>8</td>\n",
       "    </tr>\n",
       "    <tr>\n",
       "      <th>3</th>\n",
       "      <td>175</td>\n",
       "      <td>596722349</td>\n",
       "      <td>12</td>\n",
       "      <td>35</td>\n",
       "      <td>Chiba-shi</td>\n",
       "      <td>JPY</td>\n",
       "      <td>16665000</td>\n",
       "      <td>23606140</td>\n",
       "      <td>148285</td>\n",
       "      <td>210047</td>\n",
       "      <td>1705</td>\n",
       "      <td>2018-09-20</td>\n",
       "      <td>2018-10-20</td>\n",
       "      <td>successful</td>\n",
       "      <td>30</td>\n",
       "    </tr>\n",
       "    <tr>\n",
       "      <th>4</th>\n",
       "      <td>184</td>\n",
       "      <td>2056420743</td>\n",
       "      <td>16</td>\n",
       "      <td>337</td>\n",
       "      <td>Tokyo</td>\n",
       "      <td>JPY</td>\n",
       "      <td>15000000</td>\n",
       "      <td>17406300</td>\n",
       "      <td>133229</td>\n",
       "      <td>154601</td>\n",
       "      <td>656</td>\n",
       "      <td>2017-10-07</td>\n",
       "      <td>2017-12-06</td>\n",
       "      <td>successful</td>\n",
       "      <td>60</td>\n",
       "    </tr>\n",
       "  </tbody>\n",
       "</table>\n",
       "</div>"
      ],
      "text/plain": [
       "   CASEID         PID  CATEGORY  SUBCATEGORY PROJECT_PAGE_LOCATION_NAME  \\\n",
       "0      56   128197700        12           35                      Osaka   \n",
       "1      63  1900597540        12           35                      Tokyo   \n",
       "2      83  1012629901        12           35                   Ishikawa   \n",
       "3     175   596722349        12           35                  Chiba-shi   \n",
       "4     184  2056420743        16          337                      Tokyo   \n",
       "\n",
       "  PROJECT_CURRENCY  GOAL_IN_ORIGINAL_CURRENCY  PLEDGED_IN_ORIGINAL_CURRENCY  \\\n",
       "0              JPY                   68000000                      81030744   \n",
       "1              JPY                   53808516                     481621841   \n",
       "2              JPY                   45000000                      98863825   \n",
       "3              JPY                   16665000                      23606140   \n",
       "4              JPY                   15000000                      17406300   \n",
       "\n",
       "   GOAL_IN_USD  PLEDGED_IN_USD  BACKERS_COUNT LAUNCHED_DATE DEADLINE_DATE  \\\n",
       "0       623968          743538          12613    2018-03-26    2018-05-05   \n",
       "1       510735         4571420          46307    2020-07-27    2020-08-29   \n",
       "2       414327          910266           8051    2019-06-03    2019-06-11   \n",
       "3       148285          210047           1705    2018-09-20    2018-10-20   \n",
       "4       133229          154601            656    2017-10-07    2017-12-06   \n",
       "\n",
       "        STATE  time_difference_days  \n",
       "0  successful                    40  \n",
       "1  successful                    33  \n",
       "2  successful                     8  \n",
       "3  successful                    30  \n",
       "4  successful                    60  "
      ]
     },
     "execution_count": 56,
     "metadata": {},
     "output_type": "execute_result"
    }
   ],
   "source": [
    "clean_data['LAUNCHED_DATE'] = pd.to_datetime(clean_data['LAUNCHED_DATE'], format = 'mixed')\n",
    "clean_data['DEADLINE_DATE'] = pd.to_datetime(clean_data['DEADLINE_DATE'], format = 'mixed')\n",
    "\n",
    "clean_data['time_difference_days'] = (clean_data['DEADLINE_DATE'] - clean_data['LAUNCHED_DATE']).dt.days\n",
    "#test = duckdb.sql(\"SELECT * FROM clean_data WHERE time_difference_days = 0\")\n",
    "#print(test)\n",
    "clean_data.head()"
   ]
  },
  {
   "cell_type": "markdown",
   "metadata": {},
   "source": [
    "We now decided we should split the data into two dataframes based on PROJECT_CURRENCY, one that contains projects that used USD as its original currency and the other that contains projects that used Non-USD currencies as its original currency. "
   ]
  },
  {
   "cell_type": "code",
   "execution_count": 57,
   "metadata": {},
   "outputs": [],
   "source": [
    "us_currency = duckdb.sql(\"SELECT * FROM clean_data WHERE PROJECT_CURRENCY = 'USD'\").df()\n",
    "non_us_currency = duckdb.sql(\"SELECT * FROM clean_data WHERE NOT PROJECT_CURRENCY = 'USD'\").df()\n",
    "# print(us_currency.size)\n",
    "# print(non_us_currency.size)"
   ]
  },
  {
   "cell_type": "markdown",
   "metadata": {},
   "source": [
    "We changed the LAUNCHED_DATE and DEADLINE_DATE to only the corresponding year as we intend to analyzing the years that the campaigns were launched and finished in. "
   ]
  },
  {
   "cell_type": "code",
   "execution_count": 58,
   "metadata": {},
   "outputs": [
    {
     "name": "stdout",
     "output_type": "stream",
     "text": [
      "    CASEID         PID  CATEGORY  SUBCATEGORY PROJECT_PAGE_LOCATION_NAME  \\\n",
      "20     491  1100521704        12           34                      Tokyo   \n",
      "21     529  1557620183        11           29                      Tokyo   \n",
      "22     551   715478163        16          337                  Stockholm   \n",
      "23     569  1547674121        11           29                      Tokyo   \n",
      "24     573  1133115486        11           31                      Tokyo   \n",
      "25     607  1298678643        16           52                      Tokyo   \n",
      "26     637   602404695         7           28                      Tokyo   \n",
      "27     643  1801038857         7           28                  Kyoto-shi   \n",
      "28     650  2025152755        12          270                   New York   \n",
      "29     674  1653241952        26          356                  Kyoto-shi   \n",
      "30     682  1655808289        16          339                      Tokyo   \n",
      "31     686   453272263        10          312                  Kyoto-shi   \n",
      "32     699  1884307513         3            3                      Tokyo   \n",
      "33     716  1524862369        26          353                      Tokyo   \n",
      "34     746  1483107633         7           28                      Tokyo   \n",
      "35     754   652786599        11           32                      Tokyo   \n",
      "36     768    25828807        16          338                  Osaka-shi   \n",
      "37     787  1501673122        14           14                      Seoul   \n",
      "38     836  1858458140         1           53                      Tokyo   \n",
      "39     843   213110455        11           31                      Tokyo   \n",
      "40     848  1148648889        16          337                      Tokyo   \n",
      "41     863   371086255        11           30                      Tokyo   \n",
      "42     882  1722341185        11           29                      Tokyo   \n",
      "43     889  1074784374        12           35                      Tokyo   \n",
      "44     961  1941777656        12           34                      Tokyo   \n",
      "45     984   145921332         1           24                   Sado-shi   \n",
      "46     985  1454565733        11          303                Minneapolis   \n",
      "47     992   947809001        12           35                      Tokyo   \n",
      "48     999   970377129         1            1                  Hiratsuka   \n",
      "49    1010   473631177        14           42                      Tokyo   \n",
      "50    1042   454888654        14           42                      Tokyo   \n",
      "\n",
      "   PROJECT_CURRENCY  GOAL_IN_ORIGINAL_CURRENCY  PLEDGED_IN_ORIGINAL_CURRENCY  \\\n",
      "20              JPY                    5000000                       6666387   \n",
      "21              JPY                    5000000                       8773403   \n",
      "22              SEK                    4500000                       4513207   \n",
      "23              JPY                    4000000                       5605283   \n",
      "24              JPY                    4000000                       6318700   \n",
      "25              JPY                    3770585                      15502304   \n",
      "26              JPY                    3500000                       4296722   \n",
      "27              JPY                    3360000                       4306833   \n",
      "28              JPY                    3300000                       6199249   \n",
      "29              JPY                    3000000                       3581433   \n",
      "30              JPY                    3000000                       3920109   \n",
      "31              JPY                    3000000                       3854769   \n",
      "32              JPY                    3000000                      22936350   \n",
      "33              JPY                    3000000                       4311619   \n",
      "34              JPY                    3000000                     146910225   \n",
      "35              JPY                    3000000                       4456755   \n",
      "36              JPY                    3000000                       3216829   \n",
      "37              JPY                    3000000                       3156409   \n",
      "38              JPY                    2500000                       6276216   \n",
      "39              JPY                    2500000                       2529548   \n",
      "40              JPY                    2500000                       8372400   \n",
      "41              JPY                    2500000                       2533056   \n",
      "42              JPY                    2500000                       9286475   \n",
      "43              JPY                    2500000                       3034422   \n",
      "44              JPY                    2200000                       2455459   \n",
      "45              JPY                    2000000                       2437087   \n",
      "46              USD                    2000000                       5764229   \n",
      "47              USD                    2000000                       6333295   \n",
      "48              JPY                    2000000                       2007691   \n",
      "49              JPY                    2000000                       2297134   \n",
      "50              JPY                    2000000                       2313597   \n",
      "\n",
      "    GOAL_IN_USD  PLEDGED_IN_USD  BACKERS_COUNT  LAUNCHED_DATE  DEADLINE_DATE  \\\n",
      "20        47151           62865            234           2020           2020   \n",
      "21        48141           84472           1197           2020           2020   \n",
      "22       498951          500415           1689           2018           2019   \n",
      "23        37912           53127            659           2020           2020   \n",
      "24        35982           56840            615           2019           2019   \n",
      "25        35334          145272            804           2020           2020   \n",
      "26        31947           39219            157           2018           2019   \n",
      "27        32176           41243            555           2020           2020   \n",
      "28        29574           55556            248           2020           2020   \n",
      "29        28295           33779            221           2018           2018   \n",
      "30        26769           34979             11           2018           2018   \n",
      "31        26769           34396            210           2018           2018   \n",
      "32        26426          202038            820           2017           2017   \n",
      "33        26345           37864            506           2018           2018   \n",
      "34        27720         1357452           4713           2019           2019   \n",
      "35        27762           41243            943           2020           2020   \n",
      "36        27748           29753             83           2018           2019   \n",
      "37        27025           28434            266           2018           2018   \n",
      "38        23530           59073            831           2020           2020   \n",
      "39        21983           22242            180           2018           2018   \n",
      "40        21921           73413            958           2017           2017   \n",
      "41        22839           23141            268           2019           2019   \n",
      "42        23315           86606            981           2020           2020   \n",
      "43        23519           28547            587           2019           2019   \n",
      "44        20041           22368            297           2018           2019   \n",
      "45        18018           21956            246           2020           2020   \n",
      "46      2000000         5764229          48270           2015           2015   \n",
      "47      2000000         6333296          69320           2015           2015   \n",
      "48        18555           18627            141           2020           2020   \n",
      "49        17822           20469            139           2017           2017   \n",
      "50        18983           21960            313           2020           2020   \n",
      "\n",
      "         STATE  time_difference_days  \n",
      "20  successful                    20  \n",
      "21  successful                    60  \n",
      "22  successful                    41  \n",
      "23  successful                    34  \n",
      "24  successful                    45  \n",
      "25  successful                    45  \n",
      "26  successful                    41  \n",
      "27  successful                    30  \n",
      "28  successful                    30  \n",
      "29  successful                    28  \n",
      "30  successful                    40  \n",
      "31  successful                    30  \n",
      "32  successful                    60  \n",
      "33  successful                    40  \n",
      "34  successful                    16  \n",
      "35  successful                    30  \n",
      "36  successful                    45  \n",
      "37  successful                    20  \n",
      "38  successful                    37  \n",
      "39  successful                    30  \n",
      "40  successful                    39  \n",
      "41  successful                    40  \n",
      "42  successful                    30  \n",
      "43  successful                    30  \n",
      "44  successful                    38  \n",
      "45  successful                    60  \n",
      "46  successful                    32  \n",
      "47  successful                    32  \n",
      "48  successful                    30  \n",
      "49  successful                    21  \n",
      "50  successful                    30  \n"
     ]
    }
   ],
   "source": [
    "clean_data['LAUNCHED_DATE'] = clean_data['LAUNCHED_DATE'].dt.year\n",
    "clean_data['DEADLINE_DATE'] = clean_data['DEADLINE_DATE'].dt.year\n",
    "clean_data.head()\n",
    "print(clean_data.loc[20:50,])"
   ]
  },
  {
   "cell_type": "markdown",
   "metadata": {},
   "source": [
    "## **Exploratory Data Analysis**"
   ]
  },
  {
   "cell_type": "markdown",
   "metadata": {},
   "source": [
    "We split the projects based on successful and failed campaign projects as we wanted to analyze the relationship between specific factors for successful projects compared to failed projects."
   ]
  },
  {
   "cell_type": "code",
   "execution_count": 37,
   "metadata": {},
   "outputs": [],
   "source": [
    "success_proj = duckdb.sql(\"SELECT * FROM clean_data WHERE STATE ='successful'\").df()\n",
    "failed_proj = duckdb.sql(\"SELECT * FROM clean_data WHERE STATE ='failed'\").df()"
   ]
  },
  {
   "cell_type": "markdown",
   "metadata": {},
   "source": [
    "#### **Year vs Campaigns**"
   ]
  },
  {
   "cell_type": "markdown",
   "metadata": {},
   "source": [
    "We wanted to explore the Kickstarter campaigns with the years that the campaigns were created. This would allow us to observe any trends related to projects over time and the success rates of projects over time. First, we determined what the range of the years was. "
   ]
  },
  {
   "cell_type": "code",
   "execution_count": null,
   "metadata": {},
   "outputs": [],
   "source": [
    "clean_data[\"LAUNCHED_DATE\"].unique()"
   ]
  },
  {
   "cell_type": "markdown",
   "metadata": {},
   "source": [
    "**Bargraph of Number of Campaigns Launched per Year**"
   ]
  },
  {
   "cell_type": "markdown",
   "metadata": {},
   "source": [
    "We plotted the year the Kickstarter campaign was launched versus the number of Kickstarter campaigns in that year."
   ]
  },
  {
   "cell_type": "code",
   "execution_count": null,
   "metadata": {},
   "outputs": [],
   "source": [
    "campaigns_by_yr = clean_data[\"LAUNCHED_DATE\"].value_counts().sort_index(axis=0).plot(kind= \"bar\", \n",
    "                    rot = 0, figsize = (15, 10), fontsize = 13, title = \"Number of Total Campaigns\");\n",
    "campaigns_by_yr.set_xlabel(\"Year\")\n",
    "campaigns_by_yr.set_ylabel(\"Campaigns\")\n",
    "plt.show()"
   ]
  },
  {
   "cell_type": "markdown",
   "metadata": {},
   "source": [
    "In the above bargraph, we can observe that the campaigns launched over time follow somewhat of a bellcurve shape. The year 2015 had the highest number of campaigns launched. While the years before 2012 had a lower amount of campaigns launched, with 2009 having having the least amount of launched campaigns. However, this correlates with the fact that Kickstarter officially launched in April 2009. "
   ]
  },
  {
   "cell_type": "markdown",
   "metadata": {},
   "source": [
    "**Bargraph of Number of Successful Campaigns Launched per Year**"
   ]
  },
  {
   "cell_type": "markdown",
   "metadata": {},
   "source": [
    "We then wanted to explore if successful projects would follow a similar trend and plotted the year the Kickstarter campaign was launched versus the number of successful Kickstarter campaigns in that year."
   ]
  },
  {
   "cell_type": "code",
   "execution_count": null,
   "metadata": {},
   "outputs": [],
   "source": [
    "success_campaigns_by_yr = success_proj[\"LAUNCHED_DATE\"].value_counts().sort_index(axis=0).plot(kind= \"bar\", \n",
    "                        rot = 0, figsize = (15, 10), fontsize = 13, title = \"Number of Successful Campaigns\");\n",
    "success_campaigns_by_yr.set_xlabel(\"Year\")\n",
    "success_campaigns_by_yr.set_ylabel(\"Successful Campaigns\")\n",
    "plt.show()"
   ]
  },
  {
   "cell_type": "markdown",
   "metadata": {},
   "source": [
    "Interestingly, the number of successful campaigns showed a more consistent trend than that of the total successful and failed campaigns in the dataset. The highest number of successful campaigns was in 2014. "
   ]
  },
  {
   "cell_type": "markdown",
   "metadata": {},
   "source": [
    "#### **Backers vs Campaign Goal**"
   ]
  },
  {
   "cell_type": "markdown",
   "metadata": {},
   "source": [
    "We want to visualize the relationship between the number of backers and the campaign goal for successful projects. We want to see if there is a relationship between how many backers there are and the campaign goal."
   ]
  },
  {
   "cell_type": "code",
   "execution_count": null,
   "metadata": {},
   "outputs": [],
   "source": [
    "plt.scatter(success_proj[\"GOAL_IN_USD\"], success_proj[\"BACKERS_COUNT\"])\n",
    "plt.title(\"Number of Backers VS Campaign Goal\")\n",
    "plt.xlabel(\"Campaign Goal(USD)\")\n",
    "plt.ylabel(\"Number of Backers\")\n",
    "plt.yticks(np.arange(0,max(success_proj[\"BACKERS_COUNT\"]), step=15000))\n",
    "plt.show()"
   ]
  },
  {
   "cell_type": "code",
   "execution_count": null,
   "metadata": {},
   "outputs": [],
   "source": [
    "backers_goal_pscore = success_proj[\"GOAL_IN_USD\"].corr(success_proj[\"BACKERS_COUNT\"], method = \"pearson\")\n",
    "backers_goal_sscore = success_proj[\"GOAL_IN_USD\"].corr(success_proj[\"BACKERS_COUNT\"], method = \"spearman\")\n",
    "print(f\"The Pearson Correlation between campaign goal in USD and number of backers for successful campaigns is {np.round(backers_goal_pscore, 2)}\")\n",
    "print(f\"The Spearman Correlation between campaign goal in USD and number of backers for successful campaigns is {np.round(backers_goal_sscore, 2)}\")"
   ]
  },
  {
   "cell_type": "markdown",
   "metadata": {},
   "source": [
    "The Pearson correlation score is 0.45 while the Spearman correlation score of 0.64 which indicates that there may be large outliers that impact the Pearson correlation. However, this information does not indicate anything about the amount that each backer has pledged to the Kickstarter campaigns. "
   ]
  },
  {
   "cell_type": "markdown",
   "metadata": {},
   "source": [
    "#### **Categories vs Success**"
   ]
  },
  {
   "cell_type": "markdown",
   "metadata": {},
   "source": [
    "We want to analyze the relationship between the category and the number of successful projects to determine if there are certain categories that lead to more successful campaigns. "
   ]
  },
  {
   "cell_type": "code",
   "execution_count": null,
   "metadata": {},
   "outputs": [],
   "source": [
    "category_success = success_proj[\"CATEGORY\"].value_counts().sort_index(axis=0).plot(kind= \"bar\", \n",
    "                    rot = 0, figsize = (15, 10), fontsize = 13, \n",
    "                    title = \"Number of Successful Campaigns In Each Category\");\n",
    "category_success.set_xlabel(\"Category\")\n",
    "category_success.set_ylabel(\"Successful Campaigns\")\n",
    "plt.show()"
   ]
  },
  {
   "cell_type": "markdown",
   "metadata": {},
   "source": [
    "This bargraph depicts that the most successful campaigns are in category 12, while the least successful campaigns are in category 13. "
   ]
  },
  {
   "cell_type": "markdown",
   "metadata": {},
   "source": [
    "We wanted to analyze the relationship between categories and the project's campaign goals (in USD) for all successful projects, to see which categories\n",
    "had the higher goals than the others, and whether it's a combination of categories and goals that influenced success, or perhaps one influenced the other.\n",
    "when we run regressions later on Category vs Success and Goals vs Success, we'll take into account which categories has the highest/lowest goals to watch \n",
    "out for collinearity of inputs. "
   ]
  },
  {
   "cell_type": "markdown",
   "metadata": {},
   "source": [
    "categories = duckdb.sql(\"SELECT CATEGORY FROM success_proj GROUP BY CATEGORY\").df()\n",
    "category = np.arange(len(list(categories)))\n",
    "ax.barh(category, success_proj[\"GOAL_IN_USD\"])\n",
    "ax.set_yticks(category, labels=success_proj[\"CATEGORY\"])\n",
    "ax.set_xlabel(\"Campaign Goals\")\n",
    "ax.set_title(\"Category vs Campaign Goals for Successful Projects\")"
   ]
  },
  {
   "cell_type": "markdown",
   "metadata": {},
   "source": [
    "We analyze the relationship between categories and the project's Campaign Goals (in USD) for failed projects. "
   ]
  },
  {
   "cell_type": "code",
   "execution_count": null,
   "metadata": {},
   "outputs": [],
   "source": [
    "plt.scatter(failed_proj[\"GOAL_IN_USD\"], failed_proj[\"CATEGORY\"])\n",
    "plt.xlabel(\"Campaign Goal (USD)\")\n",
    "plt.ylabel(\"Category\")\n",
    "plt.title(\"Category vs Campaign Goal for Failed Projects\")\n",
    "plt.show()"
   ]
  },
  {
   "cell_type": "markdown",
   "metadata": {},
   "source": [
    "#### **Currency vs Success**"
   ]
  },
  {
   "cell_type": "markdown",
   "metadata": {},
   "source": [
    "We created a new dataframe named 'currency_success_df' to better understand the project's currency, number of successful projects for each respective currency, the total number of projects for each respective currency, to calculate the success rate for projects of each respective currency.\n",
    "\n",
    "We also calculated the total number of different original currencies there were, which was 15. We also calculated the average success rate across all currencies. "
   ]
  },
  {
   "cell_type": "code",
   "execution_count": null,
   "metadata": {},
   "outputs": [],
   "source": [
    "currency_success_df = duckdb.sql(\"\"\"\n",
    "SELECT \n",
    "    PROJECT_CURRENCY AS project_currency,\n",
    "    SUM(CASE WHEN STATE = 'successful' THEN 1 END) AS num_successful,\n",
    "    COUNT(*) AS total_projects,\n",
    "    CASE \n",
    "        WHEN COUNT(*) = 0 THEN 0\n",
    "        ELSE COUNT(CASE WHEN STATE = 'successful' THEN 1 END) * 1.0 / COUNT(*)\n",
    "    END AS success_rate\n",
    "FROM \n",
    "    clean_data \n",
    "GROUP BY \n",
    "    PROJECT_CURRENCY\n",
    "ORDER BY num_successful DESC\n",
    "\"\"\").df()\n",
    "\n",
    "num_diff_currencies = len(currency_success_df)\n",
    "print(f\"The number of different currencies is: {num_diff_currencies}\")\n",
    "\n",
    "avg_success_rate = currency_success_df['success_rate'].mean()\n",
    "print(f\"The average success rate of all currencies is {avg_success_rate:.2f}\")\n",
    "\n",
    "currency_success_df.iloc[:5]"
   ]
  },
  {
   "cell_type": "code",
   "execution_count": null,
   "metadata": {},
   "outputs": [],
   "source": [
    "currency_success = plt.barh(currency_success_df[\"project_currency\"], currency_success_df[\"success_rate\"])\n",
    "plt.xlabel(\"Success Rate\")\n",
    "plt.ylabel(\"Currency\")\n",
    "plt.title(\"Success Rate for Different Currencies\")\n",
    "plt.show()"
   ]
  },
  {
   "cell_type": "markdown",
   "metadata": {},
   "source": [
    "It appears that campaings listed with the currency HKD has the highest success rate of the Kickstarter campaigns, while campaigns with the currency MXN has the lowest success rate. "
   ]
  },
  {
   "cell_type": "markdown",
   "metadata": {},
   "source": [
    "### Regression Models"
   ]
  },
  {
   "cell_type": "markdown",
   "metadata": {},
   "source": [
    "We then made the categorical variable, STATE, into a binary variable so we can run logit on it with other variables later to find possible predictors for the success and/or failure of a project."
   ]
  },
  {
   "cell_type": "code",
   "execution_count": 59,
   "metadata": {},
   "outputs": [],
   "source": [
    "clean_data[\"STATE\"] = pd.get_dummies(clean_data[\"STATE\"], dtype=int, drop_first=True)"
   ]
  },
  {
   "cell_type": "markdown",
   "metadata": {},
   "source": [
    "We run a logistic regression to see the relationship between campaign goals and the success of a project. We hypothesize that if a project sets a higher goal, then they may do more to achieve that goal (such as promoting, advertising, improving quality of project, etc.), and that attracts more funds pledged to the project. "
   ]
  },
  {
   "cell_type": "code",
   "execution_count": 60,
   "metadata": {},
   "outputs": [
    {
     "data": {
      "image/png": "[encoded data removed]",
      "text/plain": [
       "<Figure size 640x480 with 1 Axes>"
      ]
     },
     "metadata": {},
     "output_type": "display_data"
    }
   ],
   "source": [
    "X = pd.DataFrame(clean_data[\"GOAL_IN_USD\"])\n",
    "y = pd.Series(clean_data[\"STATE\"])\n",
    "goal_model = LogisticRegression().fit(X,y)\n",
    "goal_prediction = goal_model.predict_proba(X)\n",
    "goal_success = goal_prediction[:,1]\n",
    "clean_data[\"goal_success_prediction\"] = goal_success\n",
    "sns.scatterplot(clean_data, x = \"GOAL_IN_USD\", y = \"goal_success_prediction\")\n",
    "plt.ylim(0,0.6)\n",
    "#plt.xlim(0,0.5)\n",
    "plt.show()"
   ]
  },
  {
   "cell_type": "markdown",
   "metadata": {},
   "source": [
    "We run a regression on the length of time of a project and its probability of success. We hypothesize that a project that has been running longer may have more time to promote and find backers, and so might have a higher probability of success. "
   ]
  },
  {
   "cell_type": "code",
   "execution_count": 63,
   "metadata": {},
   "outputs": [
    {
     "data": {
      "image/png": "[encoded data removed]",
      "text/plain": [
       "<Figure size 640x480 with 1 Axes>"
      ]
     },
     "metadata": {},
     "output_type": "display_data"
    }
   ],
   "source": [
    "X1 = pd.DataFrame(clean_data[\"time_difference_days\"])\n",
    "y1 = pd.Series(clean_data[\"STATE\"])\n",
    "time_model = LogisticRegression().fit(X1,y1)\n",
    "time_prediction = time_model.predict_proba(X1)\n",
    "time_success = time_prediction[:,1]\n",
    "clean_data[\"time_success_prediction\"] = time_success\n",
    "sns.scatterplot(clean_data, x = \"time_difference_days\", y = \"time_success_prediction\")\n",
    "plt.ylim(0,1)\n",
    "plt.show()"
   ]
  },
  {
   "cell_type": "markdown",
   "metadata": {},
   "source": [
    "## **Data Limitations**"
   ]
  },
  {
   "cell_type": "markdown",
   "metadata": {},
   "source": [
    "There are several limitations to our research as the data is limited to the Kickerstarter public dataset. Since many variables on our public data tsv are restricted, including the project description, we can’t draw a clear relationship between what exactly about a specific category that leads to it being more or less successful than other categories. This affects the meaning of our results because there are unclear causes that may have a greater impact on how successful a project is. We could only rely on the Category and Subcategory columns for each project.\n",
    "\n",
    "There may be outside factors such as branding, social media presence, and popularity of the project before it was put on Kickstarter that may affect the success of the project. These confounding variables can skew our results. \n",
    "\n",
    "The cleaned dataset used was also limited as we only used a portion of all the Kickerstarter projects. We  decided to remove projects that were did not have a STATE of success or failed, which were cancelled and suspended campaigns. This indicates that our data analysis is based on solely on success or failed projects, and does not take into account cancelled or suspended campaigns. \n"
   ]
  },
  {
   "cell_type": "markdown",
   "metadata": {},
   "source": [
    "## **Questions For Reviewers**"
   ]
  },
  {
   "cell_type": "markdown",
   "metadata": {},
   "source": [
    "1. Do you recommend normalizing"
   ]
  }
 ],
 "metadata": {
  "kernelspec": {
   "display_name": "info2950",
   "language": "python",
   "name": "python3"
  },
  "language_info": {
   "codemirror_mode": {
    "name": "ipython",
    "version": 3
   },
   "file_extension": ".py",
   "mimetype": "text/x-python",
   "name": "python",
   "nbconvert_exporter": "python",
   "pygments_lexer": "ipython3",
   "version": "3.12.2"
  }
 },
 "nbformat": 4,
 "nbformat_minor": 4
}
