{
 "cells": [
  {
   "cell_type": "markdown",
   "metadata": {},
   "source": [
    "# INFO 2950 Project Phase II"
   ]
  },
  {
   "cell_type": "markdown",
   "metadata": {},
   "source": [
    "Tina Chen (tc663), Catherine Fang (cf533), Vicki Chen (vc332)"
   ]
  },
  {
   "cell_type": "markdown",
   "metadata": {},
   "source": [
    "## Research Questions"
   ]
  },
  {
   "cell_type": "markdown",
   "metadata": {},
   "source": [
    "Kickstarter is a crowdfunding website that allows creators to make campaigns to fund startups, products, and projects to become a reality. These campaigns have many factors that can influnce how likely they are to successfully reach their targetted fundraising goal. These factors include category of the campaign, location the campaign is based in, and average amount donated by backers. My research question is examine the factors that lead to a campaign being successful, by measuring success of if they reached their targetted fundraising goal. The Kickstarter Dataset we are using has a combination of the publicly available information on past successful and unsuccessful kickstarter projects and data about the backers of each project. \n",
    "\n",
    "Research Question: Is there a relationship between the success of a Kickstarter campaign and factors relating its creation and release?\n",
    "- What is the relationship between different categories and the success of a campaign? Which category has the highest success rate?\n",
    "- How do kickstarter campaign success rates compare for US vs Non-US based projects?\n",
    "\n"
   ]
  },
  {
   "cell_type": "markdown",
   "metadata": {},
   "source": [
    "## Data Description"
   ]
  },
  {
   "cell_type": "markdown",
   "metadata": {},
   "source": [
    "The attributes (columns) of the dataset are the PID (Project ID), Category (numbers indicating what topic the project falls under), Subcategory (numbers indicating the subtopics within each category), the Project Location Name, State, County, and Country. Other relevant attributes included are the Project Currency, the Project’s Original Goal (how much money the creators were aiming for), amount of money pledged, the number of backers, the launched date, deadline date, and state. State is defined as either suspended (funding for a project is stopped when the project violates Kickstarter’s rules), canceled (the creators of a project dropped the project themselves), failed (the project didn’t meet funding goals), and successful (project meets funding goals). Each observation (row) corresponds to one unique project, indexed with a CaseID.\n",
    "\n",
    "The raw dataset was created by Jonathan Leland, Kickstarter’s Head of Insights for a cross-sectional study on the different creative projects that seek crowdfunding. He created the dataset to observe data on the projects from Kickstarter. The creation of this dataset is funded by Kickstarter Data, the company crowdfunding platform that directs the Kickstarter Project. The study is distributed through the Inter-University Consortium for Political and Social Research (ICPSR). \n",
    "\n",
    "Some columns were be presented as optional for users to fill out, so in the raw data there are some rows with missing values. For example, for the PROJECT_LOCATION_STATE, PROJECT_LOCATION_COUNTY, PROJECT_LOCATION_COUNTRY column, there are some missing data values. But there are no missing values in the PROJECT_LOCATION_NAME, meaning that the project creators were required to put down the location name for their project. Several restrictions were placed on the data before releasing it for public use. The names of the people/groups who created past Kickstarter projects (NAME) and the links to their projects’ websites (URL_NAME), and the descriptions of their projects (BLURB) are not shown in the public data set that was used as the raw dataset for this project. This ensures anonymity of survey participants and prevents disclosure risk from survey participants.\n",
    "\n",
    "Raw Data was collected by downloading the delimited data from the study at this link, https://www.icpsr.umich.edu/web/ICPSR/studies/38050/summary and Git Large Language Storage was used to upload the raw files onto Github. "
   ]
  },
  {
   "cell_type": "markdown",
   "metadata": {},
   "source": [
    "## Data Cleaning"
   ]
  },
  {
   "cell_type": "markdown",
   "metadata": {},
   "source": [
    "Data cleaning was done to create a dataset from the raw data for analysis. After opening the original public_data tsv file, we observed that several variables were not available publicly and were only available in the restricted dataset which we did not have access to. These variables include NAME, URL_NAME, and PROJECT_PAGE_LOCATION_COUNTRY. In addition, there were some rows that had missing values, particularly in the PROJECT_PAGE_LOCATION_STATE, and PROJECT_PAGE_LOCATION_COUNTY columns which may indicate that these are user-inputs that are optional. These columns were dropped.\n"
   ]
  },
  {
   "cell_type": "code",
   "execution_count": 1,
   "metadata": {},
   "outputs": [],
   "source": [
    "import pandas as pd\n",
    "import numpy as np\n",
    "import matplotlib.pyplot as plt\n",
    "from sklearn.linear_model import LinearRegression, LogisticRegression \n",
    "import seaborn as sns\n",
    "import duckdb\n",
    "import datetime\n",
    "##import timedelta"
   ]
  },
  {
   "cell_type": "markdown",
   "metadata": {},
   "source": [
    "We imported the data and printed out the first 5 rows to view the columns provided by the dataset."
   ]
  },
  {
   "cell_type": "code",
   "execution_count": 2,
   "metadata": {},
   "outputs": [
    {
     "name": "stderr",
     "output_type": "stream",
     "text": [
      "C:\\Users\\lovet\\AppData\\Local\\Temp\\ipykernel_4332\\4156237419.py:1: DtypeWarning: Columns (9,11,15) have mixed types. Specify dtype option on import or set low_memory=False.\n",
      "  public_data = pd.read_csv('data/public_data.tsv', delimiter='\\t')\n"
     ]
    },
    {
     "data": {
      "text/html": [
       "<div>\n",
       "<style scoped>\n",
       "    .dataframe tbody tr th:only-of-type {\n",
       "        vertical-align: middle;\n",
       "    }\n",
       "\n",
       "    .dataframe tbody tr th {\n",
       "        vertical-align: top;\n",
       "    }\n",
       "\n",
       "    .dataframe thead th {\n",
       "        text-align: right;\n",
       "    }\n",
       "</style>\n",
       "<table border=\"1\" class=\"dataframe\">\n",
       "  <thead>\n",
       "    <tr style=\"text-align: right;\">\n",
       "      <th></th>\n",
       "      <th>CASEID</th>\n",
       "      <th>NAME</th>\n",
       "      <th>PID</th>\n",
       "      <th>CATEGORY</th>\n",
       "      <th>SUBCATEGORY</th>\n",
       "      <th>PROJECT_PAGE_LOCATION_NAME</th>\n",
       "      <th>PROJECT_PAGE_LOCATION_STATE</th>\n",
       "      <th>PROJECT_PAGE_LOCATION_COUNTY</th>\n",
       "      <th>PROJECT_PAGE_LOCATION_COUNTRY</th>\n",
       "      <th>UID</th>\n",
       "      <th>PROJECT_CURRENCY</th>\n",
       "      <th>GOAL_IN_ORIGINAL_CURRENCY</th>\n",
       "      <th>PLEDGED_IN_ORIGINAL_CURRENCY</th>\n",
       "      <th>GOAL_IN_USD</th>\n",
       "      <th>PLEDGED_IN_USD</th>\n",
       "      <th>BACKERS_COUNT</th>\n",
       "      <th>LAUNCHED_DATE</th>\n",
       "      <th>DEADLINE_DATE</th>\n",
       "      <th>STATE</th>\n",
       "      <th>URL_NAME</th>\n",
       "    </tr>\n",
       "  </thead>\n",
       "  <tbody>\n",
       "    <tr>\n",
       "      <th>0</th>\n",
       "      <td>1</td>\n",
       "      <td>MASKED BY ICPSR</td>\n",
       "      <td>2137925650</td>\n",
       "      <td>11</td>\n",
       "      <td>301</td>\n",
       "      <td>London</td>\n",
       "      <td>England</td>\n",
       "      <td>Greater London</td>\n",
       "      <td></td>\n",
       "      <td>1076478145</td>\n",
       "      <td>USD</td>\n",
       "      <td>100,000,000</td>\n",
       "      <td>0</td>\n",
       "      <td>$100,000,000</td>\n",
       "      <td>$0</td>\n",
       "      <td>0</td>\n",
       "      <td>8/11/2016</td>\n",
       "      <td>10/10/2016</td>\n",
       "      <td>canceled</td>\n",
       "      <td>MASKED BY ICPSR</td>\n",
       "    </tr>\n",
       "    <tr>\n",
       "      <th>1</th>\n",
       "      <td>2</td>\n",
       "      <td>MASKED BY ICPSR</td>\n",
       "      <td>1501531085</td>\n",
       "      <td>11</td>\n",
       "      <td>296</td>\n",
       "      <td>Los Angeles</td>\n",
       "      <td>CA</td>\n",
       "      <td>Los Angeles</td>\n",
       "      <td></td>\n",
       "      <td>224946798</td>\n",
       "      <td>USD</td>\n",
       "      <td>100,000,000</td>\n",
       "      <td>85</td>\n",
       "      <td>$100,000,000</td>\n",
       "      <td>$85</td>\n",
       "      <td>4</td>\n",
       "      <td>12/19/2019</td>\n",
       "      <td>2/14/2020</td>\n",
       "      <td>canceled</td>\n",
       "      <td>MASKED BY ICPSR</td>\n",
       "    </tr>\n",
       "    <tr>\n",
       "      <th>2</th>\n",
       "      <td>3</td>\n",
       "      <td>MASKED BY ICPSR</td>\n",
       "      <td>953415668</td>\n",
       "      <td>16</td>\n",
       "      <td>51</td>\n",
       "      <td>Mexico</td>\n",
       "      <td>Baja California</td>\n",
       "      <td>Tijuana</td>\n",
       "      <td></td>\n",
       "      <td>1772203542</td>\n",
       "      <td>MXN</td>\n",
       "      <td>100,000,000</td>\n",
       "      <td>10</td>\n",
       "      <td>$5,219,374</td>\n",
       "      <td>$1</td>\n",
       "      <td>1</td>\n",
       "      <td>3/1/2017</td>\n",
       "      <td>3/22/2017</td>\n",
       "      <td>failed</td>\n",
       "      <td>MASKED BY ICPSR</td>\n",
       "    </tr>\n",
       "    <tr>\n",
       "      <th>3</th>\n",
       "      <td>4</td>\n",
       "      <td>MASKED BY ICPSR</td>\n",
       "      <td>1371386304</td>\n",
       "      <td>18</td>\n",
       "      <td>18</td>\n",
       "      <td>Columbus</td>\n",
       "      <td>OH</td>\n",
       "      <td>Franklin</td>\n",
       "      <td></td>\n",
       "      <td>1373465389</td>\n",
       "      <td>USD</td>\n",
       "      <td>100,000,000</td>\n",
       "      <td>1</td>\n",
       "      <td>$100,000,000</td>\n",
       "      <td>$1</td>\n",
       "      <td>1</td>\n",
       "      <td>6/4/2018</td>\n",
       "      <td>7/5/2018</td>\n",
       "      <td>canceled</td>\n",
       "      <td>MASKED BY ICPSR</td>\n",
       "    </tr>\n",
       "    <tr>\n",
       "      <th>4</th>\n",
       "      <td>5</td>\n",
       "      <td>MASKED BY ICPSR</td>\n",
       "      <td>1720842777</td>\n",
       "      <td>1</td>\n",
       "      <td>22</td>\n",
       "      <td>Toronto</td>\n",
       "      <td>ON</td>\n",
       "      <td>Toronto</td>\n",
       "      <td></td>\n",
       "      <td>1455666383</td>\n",
       "      <td>CAD</td>\n",
       "      <td>100,000,000</td>\n",
       "      <td>0</td>\n",
       "      <td>$80,610,122</td>\n",
       "      <td>$0</td>\n",
       "      <td>0</td>\n",
       "      <td>5/1/2015</td>\n",
       "      <td>6/30/2015</td>\n",
       "      <td>failed</td>\n",
       "      <td>MASKED BY ICPSR</td>\n",
       "    </tr>\n",
       "  </tbody>\n",
       "</table>\n",
       "</div>"
      ],
      "text/plain": [
       "   CASEID             NAME         PID  CATEGORY  SUBCATEGORY  \\\n",
       "0       1  MASKED BY ICPSR  2137925650        11          301   \n",
       "1       2  MASKED BY ICPSR  1501531085        11          296   \n",
       "2       3  MASKED BY ICPSR   953415668        16           51   \n",
       "3       4  MASKED BY ICPSR  1371386304        18           18   \n",
       "4       5  MASKED BY ICPSR  1720842777         1           22   \n",
       "\n",
       "  PROJECT_PAGE_LOCATION_NAME PROJECT_PAGE_LOCATION_STATE  \\\n",
       "0                     London                     England   \n",
       "1                Los Angeles                          CA   \n",
       "2                     Mexico             Baja California   \n",
       "3                   Columbus                          OH   \n",
       "4                    Toronto                          ON   \n",
       "\n",
       "  PROJECT_PAGE_LOCATION_COUNTY PROJECT_PAGE_LOCATION_COUNTRY         UID  \\\n",
       "0               Greater London                                1076478145   \n",
       "1                  Los Angeles                                 224946798   \n",
       "2                      Tijuana                                1772203542   \n",
       "3                     Franklin                                1373465389   \n",
       "4                      Toronto                                1455666383   \n",
       "\n",
       "  PROJECT_CURRENCY GOAL_IN_ORIGINAL_CURRENCY PLEDGED_IN_ORIGINAL_CURRENCY  \\\n",
       "0              USD               100,000,000                            0   \n",
       "1              USD               100,000,000                           85   \n",
       "2              MXN               100,000,000                           10   \n",
       "3              USD               100,000,000                            1   \n",
       "4              CAD               100,000,000                            0   \n",
       "\n",
       "    GOAL_IN_USD PLEDGED_IN_USD BACKERS_COUNT LAUNCHED_DATE DEADLINE_DATE  \\\n",
       "0  $100,000,000             $0             0     8/11/2016    10/10/2016   \n",
       "1  $100,000,000            $85             4    12/19/2019     2/14/2020   \n",
       "2    $5,219,374             $1             1      3/1/2017     3/22/2017   \n",
       "3  $100,000,000             $1             1      6/4/2018      7/5/2018   \n",
       "4   $80,610,122             $0             0      5/1/2015     6/30/2015   \n",
       "\n",
       "      STATE         URL_NAME  \n",
       "0  canceled  MASKED BY ICPSR  \n",
       "1  canceled  MASKED BY ICPSR  \n",
       "2    failed  MASKED BY ICPSR  \n",
       "3  canceled  MASKED BY ICPSR  \n",
       "4    failed  MASKED BY ICPSR  "
      ]
     },
     "execution_count": 2,
     "metadata": {},
     "output_type": "execute_result"
    }
   ],
   "source": [
    "public_data = pd.read_csv('data/public_data.tsv', delimiter='\\t')\n",
    "public_data.head()"
   ]
  },
  {
   "cell_type": "markdown",
   "metadata": {},
   "source": [
    "We checked for duplicates in the public_data.tsv dataset by selecting the rows that appeared more than once according to the unique PID. Since there are no rows that appeared more than once, we know that there is no duplicate PIDs in the dataset."
   ]
  },
  {
   "cell_type": "code",
   "execution_count": 3,
   "metadata": {},
   "outputs": [
    {
     "data": {
      "text/html": [
       "<div>\n",
       "<style scoped>\n",
       "    .dataframe tbody tr th:only-of-type {\n",
       "        vertical-align: middle;\n",
       "    }\n",
       "\n",
       "    .dataframe tbody tr th {\n",
       "        vertical-align: top;\n",
       "    }\n",
       "\n",
       "    .dataframe thead th {\n",
       "        text-align: right;\n",
       "    }\n",
       "</style>\n",
       "<table border=\"1\" class=\"dataframe\">\n",
       "  <thead>\n",
       "    <tr style=\"text-align: right;\">\n",
       "      <th></th>\n",
       "      <th>PID</th>\n",
       "      <th>count(PID)</th>\n",
       "    </tr>\n",
       "  </thead>\n",
       "  <tbody>\n",
       "  </tbody>\n",
       "</table>\n",
       "</div>"
      ],
      "text/plain": [
       "Empty DataFrame\n",
       "Columns: [PID, count(PID)]\n",
       "Index: []"
      ]
     },
     "execution_count": 3,
     "metadata": {},
     "output_type": "execute_result"
    }
   ],
   "source": [
    "duckdb.sql(\"SELECT PID, COUNT(PID) FROM public_data GROUP BY PID HAVING COUNT(PID) > 1\").df()"
   ]
  },
  {
   "cell_type": "markdown",
   "metadata": {},
   "source": [
    "We dropped the following columns: NAME, PROJECT_PAGE_LOCATION_COUNTRY, and URL_NAME since they contained restricted information that wasn't available to the public. We also dropped the PROJECT_PAGE_LOCATION_STATE and PROJECT_PAGE_LOCATION_COUNTY since they were prone to user-input error and it is not plausible to clean all 600,000+ entries manually.\n",
    "\n",
    "We also dropped the UID, and the rows that are not successful or failed (canceled or suspended). By definition, a canceled project is one that the project leader has stopped voluntarily and a suspended project is one that was taken down by KickStarter moderators for violating their terms of service or other policies. "
   ]
  },
  {
   "cell_type": "code",
   "execution_count": 4,
   "metadata": {},
   "outputs": [
    {
     "data": {
      "text/html": [
       "<div>\n",
       "<style scoped>\n",
       "    .dataframe tbody tr th:only-of-type {\n",
       "        vertical-align: middle;\n",
       "    }\n",
       "\n",
       "    .dataframe tbody tr th {\n",
       "        vertical-align: top;\n",
       "    }\n",
       "\n",
       "    .dataframe thead th {\n",
       "        text-align: right;\n",
       "    }\n",
       "</style>\n",
       "<table border=\"1\" class=\"dataframe\">\n",
       "  <thead>\n",
       "    <tr style=\"text-align: right;\">\n",
       "      <th></th>\n",
       "      <th>CASEID</th>\n",
       "      <th>PID</th>\n",
       "      <th>CATEGORY</th>\n",
       "      <th>SUBCATEGORY</th>\n",
       "      <th>PROJECT_PAGE_LOCATION_NAME</th>\n",
       "      <th>PROJECT_CURRENCY</th>\n",
       "      <th>GOAL_IN_ORIGINAL_CURRENCY</th>\n",
       "      <th>PLEDGED_IN_ORIGINAL_CURRENCY</th>\n",
       "      <th>GOAL_IN_USD</th>\n",
       "      <th>PLEDGED_IN_USD</th>\n",
       "      <th>BACKERS_COUNT</th>\n",
       "      <th>LAUNCHED_DATE</th>\n",
       "      <th>DEADLINE_DATE</th>\n",
       "      <th>STATE</th>\n",
       "    </tr>\n",
       "  </thead>\n",
       "  <tbody>\n",
       "    <tr>\n",
       "      <th>0</th>\n",
       "      <td>56</td>\n",
       "      <td>128197700</td>\n",
       "      <td>12</td>\n",
       "      <td>35</td>\n",
       "      <td>Osaka</td>\n",
       "      <td>JPY</td>\n",
       "      <td>68,000,000</td>\n",
       "      <td>81,030,744</td>\n",
       "      <td>$623,968</td>\n",
       "      <td>$743,538</td>\n",
       "      <td>12613</td>\n",
       "      <td>3/26/2018</td>\n",
       "      <td>5/5/2018</td>\n",
       "      <td>successful</td>\n",
       "    </tr>\n",
       "    <tr>\n",
       "      <th>1</th>\n",
       "      <td>63</td>\n",
       "      <td>1900597540</td>\n",
       "      <td>12</td>\n",
       "      <td>35</td>\n",
       "      <td>Tokyo</td>\n",
       "      <td>JPY</td>\n",
       "      <td>53,808,516</td>\n",
       "      <td>481,621,841</td>\n",
       "      <td>$510,735</td>\n",
       "      <td>$4,571,420</td>\n",
       "      <td>46307</td>\n",
       "      <td>7/27/2020</td>\n",
       "      <td>8/29/2020</td>\n",
       "      <td>successful</td>\n",
       "    </tr>\n",
       "    <tr>\n",
       "      <th>2</th>\n",
       "      <td>83</td>\n",
       "      <td>1012629901</td>\n",
       "      <td>12</td>\n",
       "      <td>35</td>\n",
       "      <td>Ishikawa</td>\n",
       "      <td>JPY</td>\n",
       "      <td>45,000,000</td>\n",
       "      <td>98,863,825</td>\n",
       "      <td>$414,327</td>\n",
       "      <td>$910,266</td>\n",
       "      <td>8051</td>\n",
       "      <td>6/3/2019</td>\n",
       "      <td>6/11/2019</td>\n",
       "      <td>successful</td>\n",
       "    </tr>\n",
       "    <tr>\n",
       "      <th>3</th>\n",
       "      <td>175</td>\n",
       "      <td>596722349</td>\n",
       "      <td>12</td>\n",
       "      <td>35</td>\n",
       "      <td>Chiba-shi</td>\n",
       "      <td>JPY</td>\n",
       "      <td>16,665,000</td>\n",
       "      <td>23,606,140</td>\n",
       "      <td>$148,285</td>\n",
       "      <td>$210,047</td>\n",
       "      <td>1705</td>\n",
       "      <td>9/20/2018</td>\n",
       "      <td>10/20/2018</td>\n",
       "      <td>successful</td>\n",
       "    </tr>\n",
       "    <tr>\n",
       "      <th>4</th>\n",
       "      <td>184</td>\n",
       "      <td>2056420743</td>\n",
       "      <td>16</td>\n",
       "      <td>337</td>\n",
       "      <td>Tokyo</td>\n",
       "      <td>JPY</td>\n",
       "      <td>15,000,000</td>\n",
       "      <td>17,406,300</td>\n",
       "      <td>$133,229</td>\n",
       "      <td>$154,601</td>\n",
       "      <td>656</td>\n",
       "      <td>10/7/2017</td>\n",
       "      <td>12/6/2017</td>\n",
       "      <td>successful</td>\n",
       "    </tr>\n",
       "  </tbody>\n",
       "</table>\n",
       "</div>"
      ],
      "text/plain": [
       "   CASEID         PID  CATEGORY  SUBCATEGORY PROJECT_PAGE_LOCATION_NAME  \\\n",
       "0      56   128197700        12           35                      Osaka   \n",
       "1      63  1900597540        12           35                      Tokyo   \n",
       "2      83  1012629901        12           35                   Ishikawa   \n",
       "3     175   596722349        12           35                  Chiba-shi   \n",
       "4     184  2056420743        16          337                      Tokyo   \n",
       "\n",
       "  PROJECT_CURRENCY GOAL_IN_ORIGINAL_CURRENCY PLEDGED_IN_ORIGINAL_CURRENCY  \\\n",
       "0              JPY                68,000,000                   81,030,744   \n",
       "1              JPY                53,808,516                  481,621,841   \n",
       "2              JPY                45,000,000                   98,863,825   \n",
       "3              JPY                16,665,000                   23,606,140   \n",
       "4              JPY                15,000,000                   17,406,300   \n",
       "\n",
       "  GOAL_IN_USD PLEDGED_IN_USD BACKERS_COUNT LAUNCHED_DATE DEADLINE_DATE  \\\n",
       "0    $623,968       $743,538         12613     3/26/2018      5/5/2018   \n",
       "1    $510,735     $4,571,420         46307     7/27/2020     8/29/2020   \n",
       "2    $414,327       $910,266          8051      6/3/2019     6/11/2019   \n",
       "3    $148,285       $210,047          1705     9/20/2018    10/20/2018   \n",
       "4    $133,229       $154,601           656     10/7/2017     12/6/2017   \n",
       "\n",
       "        STATE  \n",
       "0  successful  \n",
       "1  successful  \n",
       "2  successful  \n",
       "3  successful  \n",
       "4  successful  "
      ]
     },
     "execution_count": 4,
     "metadata": {},
     "output_type": "execute_result"
    }
   ],
   "source": [
    "public_data_df = pd.DataFrame(public_data)\n",
    "clean_data = public_data_df.drop(columns = [\"NAME\", \"PROJECT_PAGE_LOCATION_COUNTRY\", \"URL_NAME\", \"UID\", \"PROJECT_PAGE_LOCATION_STATE\", \"PROJECT_PAGE_LOCATION_COUNTY\"])\n",
    "\n",
    "clean_data = duckdb.sql(\"SELECT * FROM clean_data WHERE STATE = 'successful' OR STATE = 'failed'\").df()\n",
    "clean_data.head()"
   ]
  },
  {
   "cell_type": "markdown",
   "metadata": {},
   "source": [
    "We also changed all the numerical string values in the dataframe into integers for us to work with. "
   ]
  },
  {
   "cell_type": "code",
   "execution_count": 5,
   "metadata": {},
   "outputs": [
    {
     "name": "stderr",
     "output_type": "stream",
     "text": [
      "<>:3: SyntaxWarning: invalid escape sequence '\\$'\n",
      "<>:4: SyntaxWarning: invalid escape sequence '\\$'\n",
      "<>:3: SyntaxWarning: invalid escape sequence '\\$'\n",
      "<>:4: SyntaxWarning: invalid escape sequence '\\$'\n",
      "C:\\Users\\lovet\\AppData\\Local\\Temp\\ipykernel_4332\\478761548.py:3: SyntaxWarning: invalid escape sequence '\\$'\n",
      "  clean_data[\"GOAL_IN_USD\"] = clean_data[\"GOAL_IN_USD\"].replace({'[\\$]': '',',': ''}, regex=True).astype(int)\n",
      "C:\\Users\\lovet\\AppData\\Local\\Temp\\ipykernel_4332\\478761548.py:4: SyntaxWarning: invalid escape sequence '\\$'\n",
      "  clean_data[\"PLEDGED_IN_USD\"] = clean_data[\"PLEDGED_IN_USD\"].replace({'[\\$]': '',',': ''}, regex=True).astype(int)\n"
     ]
    },
    {
     "data": {
      "text/html": [
       "<div>\n",
       "<style scoped>\n",
       "    .dataframe tbody tr th:only-of-type {\n",
       "        vertical-align: middle;\n",
       "    }\n",
       "\n",
       "    .dataframe tbody tr th {\n",
       "        vertical-align: top;\n",
       "    }\n",
       "\n",
       "    .dataframe thead th {\n",
       "        text-align: right;\n",
       "    }\n",
       "</style>\n",
       "<table border=\"1\" class=\"dataframe\">\n",
       "  <thead>\n",
       "    <tr style=\"text-align: right;\">\n",
       "      <th></th>\n",
       "      <th>CASEID</th>\n",
       "      <th>PID</th>\n",
       "      <th>CATEGORY</th>\n",
       "      <th>SUBCATEGORY</th>\n",
       "      <th>PROJECT_PAGE_LOCATION_NAME</th>\n",
       "      <th>PROJECT_CURRENCY</th>\n",
       "      <th>GOAL_IN_ORIGINAL_CURRENCY</th>\n",
       "      <th>PLEDGED_IN_ORIGINAL_CURRENCY</th>\n",
       "      <th>GOAL_IN_USD</th>\n",
       "      <th>PLEDGED_IN_USD</th>\n",
       "      <th>BACKERS_COUNT</th>\n",
       "      <th>LAUNCHED_DATE</th>\n",
       "      <th>DEADLINE_DATE</th>\n",
       "      <th>STATE</th>\n",
       "    </tr>\n",
       "  </thead>\n",
       "  <tbody>\n",
       "    <tr>\n",
       "      <th>0</th>\n",
       "      <td>56</td>\n",
       "      <td>128197700</td>\n",
       "      <td>12</td>\n",
       "      <td>35</td>\n",
       "      <td>Osaka</td>\n",
       "      <td>JPY</td>\n",
       "      <td>68000000</td>\n",
       "      <td>81030744</td>\n",
       "      <td>623968</td>\n",
       "      <td>743538</td>\n",
       "      <td>12613</td>\n",
       "      <td>3/26/2018</td>\n",
       "      <td>5/5/2018</td>\n",
       "      <td>successful</td>\n",
       "    </tr>\n",
       "    <tr>\n",
       "      <th>1</th>\n",
       "      <td>63</td>\n",
       "      <td>1900597540</td>\n",
       "      <td>12</td>\n",
       "      <td>35</td>\n",
       "      <td>Tokyo</td>\n",
       "      <td>JPY</td>\n",
       "      <td>53808516</td>\n",
       "      <td>481621841</td>\n",
       "      <td>510735</td>\n",
       "      <td>4571420</td>\n",
       "      <td>46307</td>\n",
       "      <td>7/27/2020</td>\n",
       "      <td>8/29/2020</td>\n",
       "      <td>successful</td>\n",
       "    </tr>\n",
       "    <tr>\n",
       "      <th>2</th>\n",
       "      <td>83</td>\n",
       "      <td>1012629901</td>\n",
       "      <td>12</td>\n",
       "      <td>35</td>\n",
       "      <td>Ishikawa</td>\n",
       "      <td>JPY</td>\n",
       "      <td>45000000</td>\n",
       "      <td>98863825</td>\n",
       "      <td>414327</td>\n",
       "      <td>910266</td>\n",
       "      <td>8051</td>\n",
       "      <td>6/3/2019</td>\n",
       "      <td>6/11/2019</td>\n",
       "      <td>successful</td>\n",
       "    </tr>\n",
       "    <tr>\n",
       "      <th>3</th>\n",
       "      <td>175</td>\n",
       "      <td>596722349</td>\n",
       "      <td>12</td>\n",
       "      <td>35</td>\n",
       "      <td>Chiba-shi</td>\n",
       "      <td>JPY</td>\n",
       "      <td>16665000</td>\n",
       "      <td>23606140</td>\n",
       "      <td>148285</td>\n",
       "      <td>210047</td>\n",
       "      <td>1705</td>\n",
       "      <td>9/20/2018</td>\n",
       "      <td>10/20/2018</td>\n",
       "      <td>successful</td>\n",
       "    </tr>\n",
       "    <tr>\n",
       "      <th>4</th>\n",
       "      <td>184</td>\n",
       "      <td>2056420743</td>\n",
       "      <td>16</td>\n",
       "      <td>337</td>\n",
       "      <td>Tokyo</td>\n",
       "      <td>JPY</td>\n",
       "      <td>15000000</td>\n",
       "      <td>17406300</td>\n",
       "      <td>133229</td>\n",
       "      <td>154601</td>\n",
       "      <td>656</td>\n",
       "      <td>10/7/2017</td>\n",
       "      <td>12/6/2017</td>\n",
       "      <td>successful</td>\n",
       "    </tr>\n",
       "  </tbody>\n",
       "</table>\n",
       "</div>"
      ],
      "text/plain": [
       "   CASEID         PID  CATEGORY  SUBCATEGORY PROJECT_PAGE_LOCATION_NAME  \\\n",
       "0      56   128197700        12           35                      Osaka   \n",
       "1      63  1900597540        12           35                      Tokyo   \n",
       "2      83  1012629901        12           35                   Ishikawa   \n",
       "3     175   596722349        12           35                  Chiba-shi   \n",
       "4     184  2056420743        16          337                      Tokyo   \n",
       "\n",
       "  PROJECT_CURRENCY  GOAL_IN_ORIGINAL_CURRENCY  PLEDGED_IN_ORIGINAL_CURRENCY  \\\n",
       "0              JPY                   68000000                      81030744   \n",
       "1              JPY                   53808516                     481621841   \n",
       "2              JPY                   45000000                      98863825   \n",
       "3              JPY                   16665000                      23606140   \n",
       "4              JPY                   15000000                      17406300   \n",
       "\n",
       "   GOAL_IN_USD  PLEDGED_IN_USD BACKERS_COUNT LAUNCHED_DATE DEADLINE_DATE  \\\n",
       "0       623968          743538         12613     3/26/2018      5/5/2018   \n",
       "1       510735         4571420         46307     7/27/2020     8/29/2020   \n",
       "2       414327          910266          8051      6/3/2019     6/11/2019   \n",
       "3       148285          210047          1705     9/20/2018    10/20/2018   \n",
       "4       133229          154601           656     10/7/2017     12/6/2017   \n",
       "\n",
       "        STATE  \n",
       "0  successful  \n",
       "1  successful  \n",
       "2  successful  \n",
       "3  successful  \n",
       "4  successful  "
      ]
     },
     "execution_count": 5,
     "metadata": {},
     "output_type": "execute_result"
    }
   ],
   "source": [
    "clean_data[\"GOAL_IN_ORIGINAL_CURRENCY\"] = clean_data[\"GOAL_IN_ORIGINAL_CURRENCY\"].replace({',': ''}, regex=True).astype(int)\n",
    "clean_data[\"PLEDGED_IN_ORIGINAL_CURRENCY\"] = clean_data[\"PLEDGED_IN_ORIGINAL_CURRENCY\"].replace({',': ''}, regex=True).astype(int)\n",
    "clean_data[\"GOAL_IN_USD\"] = clean_data[\"GOAL_IN_USD\"].replace({'[\\$]': '',',': ''}, regex=True).astype(int)\n",
    "clean_data[\"PLEDGED_IN_USD\"] = clean_data[\"PLEDGED_IN_USD\"].replace({'[\\$]': '',',': ''}, regex=True).astype(int)\n",
    "clean_data.head()"
   ]
  },
  {
   "cell_type": "markdown",
   "metadata": {},
   "source": [
    "We also checked for NaaN values by checking if there were any rows where the BACKERS_COUNT is null and if it was an empty string. We didn't realize until we started creating scatterplots that there were other inputs like Strings containg a single space that were still lying in our data. \n",
    "\n",
    "We also checked for oddities and outliers. For instance, we found rows where the BACKERS_COUNT variable was Null so we cross examined what values the identified rows' PLEDGED_IN_ORIGINAL_CURRENCY columns had to see if the value was 0 or was not 0. If it was 0, then we replaced the NaaN values with 0 since we can assume the number of backers is 0 since no money was pledged by no people. \n",
    "\n",
    "*** Need to decide what to do with the NaN values that have non-zero values in their PLEDGED_IN_ORIGINAL_CURRENCY column."
   ]
  },
  {
   "cell_type": "code",
   "execution_count": 6,
   "metadata": {},
   "outputs": [
    {
     "name": "stdout",
     "output_type": "stream",
     "text": [
      "The number of rows where BACKERS_COUNT is Null: 0\n",
      "The number of rows where BACKERS_COUNT is an Empty String: 0\n",
      "The number of rows where BACKERS_COUNT is a String containing a space: 56\n",
      "We cleaned the rows that contained a String with a single space\n",
      "The number of rows where BACKERS_COUNT is a String containing a space: 0\n"
     ]
    }
   ],
   "source": [
    "backers_count_null = duckdb.sql(\"SELECT * FROM clean_data WHERE BACKERS_COUNT IS NULL \").df()\n",
    "print(\"The number of rows where BACKERS_COUNT is Null: \" + str(len(backers_count_null)))\n",
    "\n",
    "backers_count_null = duckdb.sql(\"SELECT * FROM clean_data WHERE BACKERS_COUNT = ''  \").df()\n",
    "print(\"The number of rows where BACKERS_COUNT is an Empty String: \" + str(len(backers_count_null)))\n",
    "\n",
    "backers_count_null = duckdb.sql(\"SELECT * FROM clean_data WHERE BACKERS_COUNT = ' ' \").df()\n",
    "print(\"The number of rows where BACKERS_COUNT is a String containing a space: \" + str(len(backers_count_null)))\n",
    "\n",
    "clean_data = duckdb.sql(\"SELECT * FROM clean_data WHERE NOT BACKERS_COUNT = ' '\").df()\n",
    "print(\"We cleaned the rows that contained a String with a single space\")\n",
    "\n",
    "backers_count_null = duckdb.sql(\"SELECT * FROM clean_data WHERE BACKERS_COUNT = ' ' \").df()\n",
    "print(\"The number of rows where BACKERS_COUNT is a String containing a space: \" + str(len(backers_count_null)))\n",
    "clean_data[\"BACKERS_COUNT\"] = clean_data[\"BACKERS_COUNT\"].astype(int)"
   ]
  },
  {
   "cell_type": "markdown",
   "metadata": {},
   "source": [
    "We converted the LAUNCHED_DATE and DEADLINE_DATE to datetime objects. We then calculated the time difference in days that each project fundraiser ran for and added it as a new column to the clean_data. "
   ]
  },
  {
   "cell_type": "code",
   "execution_count": 7,
   "metadata": {},
   "outputs": [
    {
     "data": {
      "text/html": [
       "<div>\n",
       "<style scoped>\n",
       "    .dataframe tbody tr th:only-of-type {\n",
       "        vertical-align: middle;\n",
       "    }\n",
       "\n",
       "    .dataframe tbody tr th {\n",
       "        vertical-align: top;\n",
       "    }\n",
       "\n",
       "    .dataframe thead th {\n",
       "        text-align: right;\n",
       "    }\n",
       "</style>\n",
       "<table border=\"1\" class=\"dataframe\">\n",
       "  <thead>\n",
       "    <tr style=\"text-align: right;\">\n",
       "      <th></th>\n",
       "      <th>CASEID</th>\n",
       "      <th>PID</th>\n",
       "      <th>CATEGORY</th>\n",
       "      <th>SUBCATEGORY</th>\n",
       "      <th>PROJECT_PAGE_LOCATION_NAME</th>\n",
       "      <th>PROJECT_CURRENCY</th>\n",
       "      <th>GOAL_IN_ORIGINAL_CURRENCY</th>\n",
       "      <th>PLEDGED_IN_ORIGINAL_CURRENCY</th>\n",
       "      <th>GOAL_IN_USD</th>\n",
       "      <th>PLEDGED_IN_USD</th>\n",
       "      <th>BACKERS_COUNT</th>\n",
       "      <th>LAUNCHED_DATE</th>\n",
       "      <th>DEADLINE_DATE</th>\n",
       "      <th>STATE</th>\n",
       "      <th>time_difference</th>\n",
       "    </tr>\n",
       "  </thead>\n",
       "  <tbody>\n",
       "    <tr>\n",
       "      <th>0</th>\n",
       "      <td>56</td>\n",
       "      <td>128197700</td>\n",
       "      <td>12</td>\n",
       "      <td>35</td>\n",
       "      <td>Osaka</td>\n",
       "      <td>JPY</td>\n",
       "      <td>68000000</td>\n",
       "      <td>81030744</td>\n",
       "      <td>623968</td>\n",
       "      <td>743538</td>\n",
       "      <td>12613</td>\n",
       "      <td>2018-03-26</td>\n",
       "      <td>2018-05-05</td>\n",
       "      <td>successful</td>\n",
       "      <td>40</td>\n",
       "    </tr>\n",
       "    <tr>\n",
       "      <th>1</th>\n",
       "      <td>63</td>\n",
       "      <td>1900597540</td>\n",
       "      <td>12</td>\n",
       "      <td>35</td>\n",
       "      <td>Tokyo</td>\n",
       "      <td>JPY</td>\n",
       "      <td>53808516</td>\n",
       "      <td>481621841</td>\n",
       "      <td>510735</td>\n",
       "      <td>4571420</td>\n",
       "      <td>46307</td>\n",
       "      <td>2020-07-27</td>\n",
       "      <td>2020-08-29</td>\n",
       "      <td>successful</td>\n",
       "      <td>33</td>\n",
       "    </tr>\n",
       "    <tr>\n",
       "      <th>2</th>\n",
       "      <td>83</td>\n",
       "      <td>1012629901</td>\n",
       "      <td>12</td>\n",
       "      <td>35</td>\n",
       "      <td>Ishikawa</td>\n",
       "      <td>JPY</td>\n",
       "      <td>45000000</td>\n",
       "      <td>98863825</td>\n",
       "      <td>414327</td>\n",
       "      <td>910266</td>\n",
       "      <td>8051</td>\n",
       "      <td>2019-06-03</td>\n",
       "      <td>2019-06-11</td>\n",
       "      <td>successful</td>\n",
       "      <td>8</td>\n",
       "    </tr>\n",
       "    <tr>\n",
       "      <th>3</th>\n",
       "      <td>175</td>\n",
       "      <td>596722349</td>\n",
       "      <td>12</td>\n",
       "      <td>35</td>\n",
       "      <td>Chiba-shi</td>\n",
       "      <td>JPY</td>\n",
       "      <td>16665000</td>\n",
       "      <td>23606140</td>\n",
       "      <td>148285</td>\n",
       "      <td>210047</td>\n",
       "      <td>1705</td>\n",
       "      <td>2018-09-20</td>\n",
       "      <td>2018-10-20</td>\n",
       "      <td>successful</td>\n",
       "      <td>30</td>\n",
       "    </tr>\n",
       "    <tr>\n",
       "      <th>4</th>\n",
       "      <td>184</td>\n",
       "      <td>2056420743</td>\n",
       "      <td>16</td>\n",
       "      <td>337</td>\n",
       "      <td>Tokyo</td>\n",
       "      <td>JPY</td>\n",
       "      <td>15000000</td>\n",
       "      <td>17406300</td>\n",
       "      <td>133229</td>\n",
       "      <td>154601</td>\n",
       "      <td>656</td>\n",
       "      <td>2017-10-07</td>\n",
       "      <td>2017-12-06</td>\n",
       "      <td>successful</td>\n",
       "      <td>60</td>\n",
       "    </tr>\n",
       "  </tbody>\n",
       "</table>\n",
       "</div>"
      ],
      "text/plain": [
       "   CASEID         PID  CATEGORY  SUBCATEGORY PROJECT_PAGE_LOCATION_NAME  \\\n",
       "0      56   128197700        12           35                      Osaka   \n",
       "1      63  1900597540        12           35                      Tokyo   \n",
       "2      83  1012629901        12           35                   Ishikawa   \n",
       "3     175   596722349        12           35                  Chiba-shi   \n",
       "4     184  2056420743        16          337                      Tokyo   \n",
       "\n",
       "  PROJECT_CURRENCY  GOAL_IN_ORIGINAL_CURRENCY  PLEDGED_IN_ORIGINAL_CURRENCY  \\\n",
       "0              JPY                   68000000                      81030744   \n",
       "1              JPY                   53808516                     481621841   \n",
       "2              JPY                   45000000                      98863825   \n",
       "3              JPY                   16665000                      23606140   \n",
       "4              JPY                   15000000                      17406300   \n",
       "\n",
       "   GOAL_IN_USD  PLEDGED_IN_USD  BACKERS_COUNT LAUNCHED_DATE DEADLINE_DATE  \\\n",
       "0       623968          743538          12613    2018-03-26    2018-05-05   \n",
       "1       510735         4571420          46307    2020-07-27    2020-08-29   \n",
       "2       414327          910266           8051    2019-06-03    2019-06-11   \n",
       "3       148285          210047           1705    2018-09-20    2018-10-20   \n",
       "4       133229          154601            656    2017-10-07    2017-12-06   \n",
       "\n",
       "        STATE  time_difference  \n",
       "0  successful               40  \n",
       "1  successful               33  \n",
       "2  successful                8  \n",
       "3  successful               30  \n",
       "4  successful               60  "
      ]
     },
     "execution_count": 7,
     "metadata": {},
     "output_type": "execute_result"
    }
   ],
   "source": [
    "clean_data['LAUNCHED_DATE'] = pd.to_datetime(clean_data['LAUNCHED_DATE'], format = 'mixed')\n",
    "clean_data['DEADLINE_DATE'] = pd.to_datetime(clean_data['DEADLINE_DATE'], format = 'mixed')\n",
    "\n",
    "clean_data['time_difference'] = (clean_data['DEADLINE_DATE'] - clean_data['LAUNCHED_DATE']).dt.days\n",
    "clean_data.head()"
   ]
  },
  {
   "cell_type": "markdown",
   "metadata": {},
   "source": [
    "Maybe also look at when STATE is canceled or failed in the future and maybe do a multivariable regression with the previously calculated time_difference (which represents the length of the fundraiser)"
   ]
  },
  {
   "cell_type": "markdown",
   "metadata": {},
   "source": [
    "We now decided we should split the data into two dataframes based on PROJECT_CURRENCY, one that contains projects that used USD as its original currency and the other that contains projects that used Non-USD currencies as its original currency. "
   ]
  },
  {
   "cell_type": "code",
   "execution_count": 8,
   "metadata": {},
   "outputs": [],
   "source": [
    "us_currency = duckdb.sql(\"SELECT * FROM clean_data WHERE PROJECT_CURRENCY = 'USD'\").df()\n",
    "non_us_currency = duckdb.sql(\"SELECT * FROM clean_data WHERE NOT PROJECT_CURRENCY = 'USD'\").df()\n",
    "# print(us_currency.size)\n",
    "# print(non_us_currency.size)"
   ]
  },
  {
   "cell_type": "markdown",
   "metadata": {},
   "source": [
    "## Exploratory Data Analysis"
   ]
  },
  {
   "cell_type": "markdown",
   "metadata": {},
   "source": [
    "We split the projects based on successful and failed campaign projects as we wanted to analyze the relationship between specific factors for successful projects compared to failed projects."
   ]
  },
  {
   "cell_type": "code",
   "execution_count": 9,
   "metadata": {},
   "outputs": [],
   "source": [
    "success_proj = duckdb.sql(\"SELECT * FROM clean_data WHERE STATE ='successful'\").df()\n",
    "failed_proj = duckdb.sql(\"SELECT * FROM clean_data WHERE STATE ='failed'\").df()"
   ]
  },
  {
   "cell_type": "markdown",
   "metadata": {},
   "source": [
    "We wanted to determine the median of the data to compare campaign projects by those that are above the median in campagin goal and those that are below the median, and separated the data as such."
   ]
  },
  {
   "cell_type": "code",
   "execution_count": 10,
   "metadata": {},
   "outputs": [],
   "source": [
    "success_data_above_med = duckdb.sql(\"SELECT * FROM success_proj GROUP BY * HAVING GOAL_IN_USD >= median(GOAL_IN_USD) \").df()\n",
    "success_data_below_med = duckdb.sql(\"SELECT * FROM success_proj GROUP BY * HAVING GOAL_IN_USD < median(GOAL_IN_USD) \").df()\n",
    "failed_data_above_med = duckdb.sql(\"SELECT * FROM failed_proj GROUP BY * HAVING GOAL_IN_USD >= median(GOAL_IN_USD) \").df()\n",
    "failed_data_below_med = duckdb.sql(\"SELECT * FROM failed_proj GROUP BY * HAVING GOAL_IN_USD < median(GOAL_IN_USD) \").df()"
   ]
  },
  {
   "cell_type": "markdown",
   "metadata": {},
   "source": [
    "#### Year vs Campaigns"
   ]
  },
  {
   "cell_type": "markdown",
   "metadata": {},
   "source": [
    "We wanted to explore the Kickstarter campaigns with the years that the campaigns were created. This would allow us to observe any trends related to projects over time and the success rates of projects over time. "
   ]
  },
  {
   "cell_type": "code",
   "execution_count": null,
   "metadata": {},
   "outputs": [],
   "source": []
  },
  {
   "cell_type": "markdown",
   "metadata": {},
   "source": [
    "### Graphs"
   ]
  },
  {
   "cell_type": "markdown",
   "metadata": {},
   "source": [
    "#### Backers vs Success"
   ]
  },
  {
   "cell_type": "markdown",
   "metadata": {},
   "source": [
    "We want to visualize the relationship between the number of backers and the campaign goal for successful projects. "
   ]
  },
  {
   "cell_type": "code",
   "execution_count": 11,
   "metadata": {},
   "outputs": [
    {
     "data": {
      "image/png": "[encoded data removed]",
      "text/plain": [
       "<Figure size 640x480 with 1 Axes>"
      ]
     },
     "metadata": {},
     "output_type": "display_data"
    }
   ],
   "source": [
    "plt.scatter(success_proj[\"GOAL_IN_USD\"], success_proj[\"BACKERS_COUNT\"])\n",
    "plt.xlabel(\"Campaign Goal(USD)\")\n",
    "plt.ylabel(\"Number of Backers\")\n",
    "plt.yticks(np.arange(0,max(success_proj[\"BACKERS_COUNT\"]), step=15000))\n",
    "plt.show()"
   ]
  },
  {
   "cell_type": "markdown",
   "metadata": {},
   "source": [
    "#### Categories vs Success"
   ]
  },
  {
   "cell_type": "markdown",
   "metadata": {},
   "source": [
    "We analyze the relationship between categories and the project's Campaign Goals (in USD) for all successful projects. "
   ]
  },
  {
   "cell_type": "code",
   "execution_count": 12,
   "metadata": {},
   "outputs": [
    {
     "data": {
      "image/png": "[encoded data removed]",
      "text/plain": [
       "<Figure size 640x480 with 1 Axes>"
      ]
     },
     "metadata": {},
     "output_type": "display_data"
    }
   ],
   "source": [
    "plt.scatter(success_proj[\"GOAL_IN_USD\"], success_proj[\"CATEGORY\"])\n",
    "plt.xlabel(\"Campaign Goal (USD)\")\n",
    "plt.ylabel(\"Category\")\n",
    "plt.title(\"Category vs Campaign Goal for Successful Projects\")\n",
    "plt.show()"
   ]
  },
  {
   "cell_type": "markdown",
   "metadata": {},
   "source": [
    "We analyze the relationship between categories and the project's Campaign Goals (in USD) for failed projects. "
   ]
  },
  {
   "cell_type": "code",
   "execution_count": 13,
   "metadata": {},
   "outputs": [
    {
     "data": {
      "image/png": "[encoded data removed]",
      "text/plain": [
       "<Figure size 640x480 with 1 Axes>"
      ]
     },
     "metadata": {},
     "output_type": "display_data"
    }
   ],
   "source": [
    "plt.scatter(failed_proj[\"GOAL_IN_USD\"], failed_proj[\"CATEGORY\"])\n",
    "plt.xlabel(\"Campaign Goal (USD)\")\n",
    "plt.ylabel(\"Category\")\n",
    "plt.title(\"Category vs Campaign Goal for Failed Projects\")\n",
    "plt.show()"
   ]
  },
  {
   "cell_type": "markdown",
   "metadata": {},
   "source": [
    "#### Currency vs Success"
   ]
  },
  {
   "cell_type": "markdown",
   "metadata": {},
   "source": [
    "We then created a new dataframe named 'currency_success_df' to better understand the project's currency, number of successful projects for each respective currency, the total number of projects for each respective currency, to calculate the success rate for projects of each respective currency.\n",
    "\n",
    "We also calculated the total number of different currencies there are which was 15. We also calculated the average success rate across all currencies. "
   ]
  },
  {
   "cell_type": "code",
   "execution_count": 14,
   "metadata": {},
   "outputs": [
    {
     "name": "stdout",
     "output_type": "stream",
     "text": [
      "15\n",
      "The average success rate of all currencies is 0.46\n"
     ]
    },
    {
     "data": {
      "text/html": [
       "<div>\n",
       "<style scoped>\n",
       "    .dataframe tbody tr th:only-of-type {\n",
       "        vertical-align: middle;\n",
       "    }\n",
       "\n",
       "    .dataframe tbody tr th {\n",
       "        vertical-align: top;\n",
       "    }\n",
       "\n",
       "    .dataframe thead th {\n",
       "        text-align: right;\n",
       "    }\n",
       "</style>\n",
       "<table border=\"1\" class=\"dataframe\">\n",
       "  <thead>\n",
       "    <tr style=\"text-align: right;\">\n",
       "      <th></th>\n",
       "      <th>project_currency</th>\n",
       "      <th>num_successful</th>\n",
       "      <th>total_projects</th>\n",
       "      <th>success_rate</th>\n",
       "    </tr>\n",
       "  </thead>\n",
       "  <tbody>\n",
       "    <tr>\n",
       "      <th>0</th>\n",
       "      <td>USD</td>\n",
       "      <td>178334.0</td>\n",
       "      <td>381263</td>\n",
       "      <td>0.467745</td>\n",
       "    </tr>\n",
       "    <tr>\n",
       "      <th>1</th>\n",
       "      <td>GBP</td>\n",
       "      <td>28143.0</td>\n",
       "      <td>55268</td>\n",
       "      <td>0.509210</td>\n",
       "    </tr>\n",
       "    <tr>\n",
       "      <th>2</th>\n",
       "      <td>EUR</td>\n",
       "      <td>17256.0</td>\n",
       "      <td>41487</td>\n",
       "      <td>0.415938</td>\n",
       "    </tr>\n",
       "    <tr>\n",
       "      <th>3</th>\n",
       "      <td>CAD</td>\n",
       "      <td>10908.0</td>\n",
       "      <td>23889</td>\n",
       "      <td>0.456612</td>\n",
       "    </tr>\n",
       "    <tr>\n",
       "      <th>4</th>\n",
       "      <td>AUD</td>\n",
       "      <td>5162.0</td>\n",
       "      <td>12353</td>\n",
       "      <td>0.417874</td>\n",
       "    </tr>\n",
       "    <tr>\n",
       "      <th>5</th>\n",
       "      <td>HKD</td>\n",
       "      <td>3038.0</td>\n",
       "      <td>4350</td>\n",
       "      <td>0.698391</td>\n",
       "    </tr>\n",
       "    <tr>\n",
       "      <th>6</th>\n",
       "      <td>MXN</td>\n",
       "      <td>2204.0</td>\n",
       "      <td>6377</td>\n",
       "      <td>0.345617</td>\n",
       "    </tr>\n",
       "    <tr>\n",
       "      <th>7</th>\n",
       "      <td>SEK</td>\n",
       "      <td>1354.0</td>\n",
       "      <td>3139</td>\n",
       "      <td>0.431348</td>\n",
       "    </tr>\n",
       "    <tr>\n",
       "      <th>8</th>\n",
       "      <td>JPY</td>\n",
       "      <td>1289.0</td>\n",
       "      <td>2023</td>\n",
       "      <td>0.637173</td>\n",
       "    </tr>\n",
       "    <tr>\n",
       "      <th>9</th>\n",
       "      <td>SGD</td>\n",
       "      <td>1213.0</td>\n",
       "      <td>2331</td>\n",
       "      <td>0.520378</td>\n",
       "    </tr>\n",
       "    <tr>\n",
       "      <th>10</th>\n",
       "      <td>NZD</td>\n",
       "      <td>988.0</td>\n",
       "      <td>2265</td>\n",
       "      <td>0.436203</td>\n",
       "    </tr>\n",
       "    <tr>\n",
       "      <th>11</th>\n",
       "      <td>DKK</td>\n",
       "      <td>843.0</td>\n",
       "      <td>1803</td>\n",
       "      <td>0.467554</td>\n",
       "    </tr>\n",
       "    <tr>\n",
       "      <th>12</th>\n",
       "      <td>CHF</td>\n",
       "      <td>615.0</td>\n",
       "      <td>1631</td>\n",
       "      <td>0.377069</td>\n",
       "    </tr>\n",
       "    <tr>\n",
       "      <th>13</th>\n",
       "      <td>NOK</td>\n",
       "      <td>346.0</td>\n",
       "      <td>989</td>\n",
       "      <td>0.349848</td>\n",
       "    </tr>\n",
       "    <tr>\n",
       "      <th>14</th>\n",
       "      <td>PLN</td>\n",
       "      <td>76.0</td>\n",
       "      <td>217</td>\n",
       "      <td>0.350230</td>\n",
       "    </tr>\n",
       "  </tbody>\n",
       "</table>\n",
       "</div>"
      ],
      "text/plain": [
       "   project_currency  num_successful  total_projects  success_rate\n",
       "0               USD        178334.0          381263      0.467745\n",
       "1               GBP         28143.0           55268      0.509210\n",
       "2               EUR         17256.0           41487      0.415938\n",
       "3               CAD         10908.0           23889      0.456612\n",
       "4               AUD          5162.0           12353      0.417874\n",
       "5               HKD          3038.0            4350      0.698391\n",
       "6               MXN          2204.0            6377      0.345617\n",
       "7               SEK          1354.0            3139      0.431348\n",
       "8               JPY          1289.0            2023      0.637173\n",
       "9               SGD          1213.0            2331      0.520378\n",
       "10              NZD           988.0            2265      0.436203\n",
       "11              DKK           843.0            1803      0.467554\n",
       "12              CHF           615.0            1631      0.377069\n",
       "13              NOK           346.0             989      0.349848\n",
       "14              PLN            76.0             217      0.350230"
      ]
     },
     "execution_count": 14,
     "metadata": {},
     "output_type": "execute_result"
    }
   ],
   "source": [
    "currency_success_df = duckdb.sql(\"\"\"\n",
    "SELECT \n",
    "    PROJECT_CURRENCY AS project_currency,\n",
    "    SUM(CASE WHEN STATE = 'successful' THEN 1 END) AS num_successful,\n",
    "    COUNT(*) AS total_projects,\n",
    "    CASE \n",
    "        WHEN COUNT(*) = 0 THEN 0\n",
    "        ELSE COUNT(CASE WHEN STATE = 'successful' THEN 1 END) * 1.0 / COUNT(*)\n",
    "    END AS success_rate\n",
    "FROM \n",
    "    clean_data \n",
    "GROUP BY \n",
    "    PROJECT_CURRENCY\n",
    "ORDER BY num_successful DESC\n",
    "\"\"\").df()\n",
    "\n",
    "num_diff_currencies = len(currency_success_df)\n",
    "print(num_diff_currencies)\n",
    "\n",
    "avg_success_rate = currency_success_df['success_rate'].mean()\n",
    "print(f\"The average success rate of all currencies is {avg_success_rate:.2f}\")\n",
    "\n",
    "currency_success_df.iloc[:]"
   ]
  },
  {
   "cell_type": "markdown",
   "metadata": {},
   "source": [
    "### Regression Models"
   ]
  },
  {
   "cell_type": "markdown",
   "metadata": {},
   "source": [
    "We then made the categorical variable, STATE, into a binary variable so we can run logit on it with other variables later to find possible predictors for the success and/or failure of a project.\n",
    "\n",
    "We plan to make another column that indicates the rate of success or failure that may be predicted by a specific variable, using a GROUP BY statement."
   ]
  },
  {
   "cell_type": "code",
   "execution_count": 15,
   "metadata": {},
   "outputs": [],
   "source": [
    "clean_data[\"STATE\"] = pd.get_dummies(clean_data[\"STATE\"], dtype=int, drop_first=True)"
   ]
  },
  {
   "cell_type": "markdown",
   "metadata": {},
   "source": [
    "We run a logistic regression to see the relationship between categories and the success of a project. "
   ]
  },
  {
   "cell_type": "code",
   "execution_count": 16,
   "metadata": {},
   "outputs": [
    {
     "data": {
      "image/png": "[encoded data removed]",
      "text/plain": [
       "<Figure size 640x480 with 1 Axes>"
      ]
     },
     "metadata": {},
     "output_type": "display_data"
    }
   ],
   "source": [
    "X = pd.DataFrame(clean_data[\"CATEGORY\"])\n",
    "y = pd.Series(clean_data[\"STATE\"])\n",
    "category_model = LogisticRegression().fit(X,y)\n",
    "Category_prediction = category_model.predict_proba(X)\n",
    "category_success = Category_prediction[:,1]\n",
    "clean_data[\"category_success_prediction\"] = category_success\n",
    "sns.scatterplot(clean_data, x = \"CATEGORY\", y = \"category_success_prediction\")\n",
    "plt.ylim(0,1)\n",
    "plt.show()"
   ]
  },
  {
   "cell_type": "markdown",
   "metadata": {},
   "source": [
    "downward prediction of category on success - high numbered categories have lower chances of success. *insert key to category labels from pdf*"
   ]
  },
  {
   "cell_type": "markdown",
   "metadata": {},
   "source": []
  },
  {
   "cell_type": "markdown",
   "metadata": {},
   "source": [
    "## Data Limitations"
   ]
  },
  {
   "cell_type": "markdown",
   "metadata": {},
   "source": [
    "There are several limitations to our research as the data is limited to the Kickerstarter public dataset. Since many variables on our public data tsv are restricted, including the project description, we can’t draw a clear relationship between what exactly about a specific category that leads to it being more or less successful than other categories. This affects the meaning of our results because there are unclear causes that may have a greater impact on how successful a project is. We could only rely on the Category and Subcategory columns for each project.\n",
    "There may be outside factors such as branding, social media presence, and popularity of the project before it was put on Kickstarter that may affect the success of the project. These confounding variables can skew our results. \n",
    "\n",
    "The cleaned dataset used was also limited as we only used a portion of all the Kickerstarter projects. We  decided to remove projects that were did not have a STATE of success or failed, which were cancelled and suspended campaigns. This indidicates that our data analysis is based on solely on success or failed projects, and does not take into account cancelled or suspended campaigns. \n"
   ]
  },
  {
   "cell_type": "markdown",
   "metadata": {},
   "source": [
    "## Questions For Reviewers"
   ]
  },
  {
   "cell_type": "markdown",
   "metadata": {},
   "source": []
  }
 ],
 "metadata": {
  "kernelspec": {
   "display_name": "info2950",
   "language": "python",
   "name": "python3"
  },
  "language_info": {
   "codemirror_mode": {
    "name": "ipython",
    "version": 3
   },
   "file_extension": ".py",
   "mimetype": "text/x-python",
   "name": "python",
   "nbconvert_exporter": "python",
   "pygments_lexer": "ipython3",
   "version": "3.12.3"
  }
 },
 "nbformat": 4,
 "nbformat_minor": 4
}
