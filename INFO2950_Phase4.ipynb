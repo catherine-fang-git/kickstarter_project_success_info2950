{
 "cells": [
  {
   "cell_type": "markdown",
   "metadata": {},
   "source": [
    "# INFO 2950 Project Phase IV\n",
    "Tina Chen (tc663), Catherine Fang (cf533), Vicki Chen (vc332)"
   ]
  },
  {
   "cell_type": "markdown",
   "metadata": {},
   "source": [
    "## Introduction"
   ]
  },
  {
   "cell_type": "markdown",
   "metadata": {},
   "source": [
    "** Note: In this document, the phrases, 'Kickstarter campaign' and 'Kickstarter project' are used interchangeably.\n",
    "\n",
    "Kickstarter is a crowdfunding website that allows creators to create fundraising campaigns to fund startups, products, and projects to help them become a reality. Kickstarter campaigns have many factors that can influence how likely they are to successfully reach their target fundraising goal. These factors include category of the project, duration of a project, location the project is based in, original currency of the campaign, and number of backers. The focus of our research is to examine the factors that lead to a project being successful to identify any predictors of project success, and determine which factors are the best predictors of a project's success. \n",
    "\n",
    "Research Question: Are there any relationships between the predictors (category of project, location, duration of project, currency, number of backers) and the success of a Kickstarter project?\n",
    "- What is the relationship between the category of the campaign and the average campaign goals for each category, by success vs failed projects? Are the two correlated with one another, and which influence success more? \n",
    "  - Which category has the highest number of successful campaigns?\n",
    "- What is the relationship between the project goal and the number of backers of a successful project? Does higher project goals lead to higher number of backers of a successful project?\n",
    "- How does the length of a project impact the amount of money raised, regardless of whether or not its successful?\n",
    "  - Is there is optimal project duration to optimize chances of success?\n",
    "- How do Kickstarter project success rates compare for US vs Non-US based projects?\n",
    "- How do projects' success rates compare considering the projects' orignal currencies? \n",
    "- Which year has the most projects that were successful?\n",
    "- Based on the surplus (difference between pledged and goal amount), what is the success rate?"
   ]
  },
  {
   "cell_type": "markdown",
   "metadata": {},
   "source": [
    "## Data Description and Data Cleaning"
   ]
  },
  {
   "cell_type": "markdown",
   "metadata": {},
   "source": [
    "## **Preregistration Statements**"
   ]
  },
  {
   "cell_type": "markdown",
   "metadata": {},
   "source": [
    "#### **1. Multivariable Logistic Regression**"
   ]
  },
  {
   "cell_type": "markdown",
   "metadata": {},
   "source": [
    "**Hypothesis:** Multiple variables will result in better predictions of a whether a campaign is likely to succeed or not."
   ]
  },
  {
   "cell_type": "markdown",
   "metadata": {},
   "source": [
    "#### **2. Title**"
   ]
  },
  {
   "cell_type": "markdown",
   "metadata": {},
   "source": [
    "**Hypothesis:** "
   ]
  },
  {
   "cell_type": "markdown",
   "metadata": {},
   "source": [
    "#### **3. Title**"
   ]
  },
  {
   "cell_type": "markdown",
   "metadata": {},
   "source": [
    "**Hypothesis:** "
   ]
  },
  {
   "cell_type": "markdown",
   "metadata": {},
   "source": [
    "## **Data Analysis**"
   ]
  },
  {
   "cell_type": "code",
   "execution_count": 1,
   "metadata": {},
   "outputs": [],
   "source": [
    "import pandas as pd\n",
    "import numpy as np\n",
    "import matplotlib.pyplot as plt\n",
    "from sklearn.linear_model import LinearRegression, LogisticRegression\n",
    "from sklearn.model_selection import train_test_split \n",
    "import seaborn as sns\n",
    "import duckdb"
   ]
  },
  {
   "cell_type": "code",
   "execution_count": 2,
   "metadata": {},
   "outputs": [
    {
     "data": {
      "text/html": [
       "<div>\n",
       "<style scoped>\n",
       "    .dataframe tbody tr th:only-of-type {\n",
       "        vertical-align: middle;\n",
       "    }\n",
       "\n",
       "    .dataframe tbody tr th {\n",
       "        vertical-align: top;\n",
       "    }\n",
       "\n",
       "    .dataframe thead th {\n",
       "        text-align: right;\n",
       "    }\n",
       "</style>\n",
       "<table border=\"1\" class=\"dataframe\">\n",
       "  <thead>\n",
       "    <tr style=\"text-align: right;\">\n",
       "      <th></th>\n",
       "      <th>category</th>\n",
       "      <th>project_location</th>\n",
       "      <th>original_currency</th>\n",
       "      <th>goal_original_currency</th>\n",
       "      <th>pledged_orginal_currency</th>\n",
       "      <th>goal_usd</th>\n",
       "      <th>pledged_usd</th>\n",
       "      <th>num_backers</th>\n",
       "      <th>success</th>\n",
       "      <th>duration_in_days</th>\n",
       "      <th>launched_year</th>\n",
       "    </tr>\n",
       "  </thead>\n",
       "  <tbody>\n",
       "    <tr>\n",
       "      <th>0</th>\n",
       "      <td>Games</td>\n",
       "      <td>Osaka</td>\n",
       "      <td>JPY</td>\n",
       "      <td>68000000</td>\n",
       "      <td>81030744</td>\n",
       "      <td>623968</td>\n",
       "      <td>743538</td>\n",
       "      <td>12613</td>\n",
       "      <td>1</td>\n",
       "      <td>40</td>\n",
       "      <td>2018</td>\n",
       "    </tr>\n",
       "    <tr>\n",
       "      <th>1</th>\n",
       "      <td>Games</td>\n",
       "      <td>Tokyo</td>\n",
       "      <td>JPY</td>\n",
       "      <td>53808516</td>\n",
       "      <td>481621841</td>\n",
       "      <td>510735</td>\n",
       "      <td>4571420</td>\n",
       "      <td>46307</td>\n",
       "      <td>1</td>\n",
       "      <td>33</td>\n",
       "      <td>2020</td>\n",
       "    </tr>\n",
       "    <tr>\n",
       "      <th>2</th>\n",
       "      <td>Games</td>\n",
       "      <td>Ishikawa</td>\n",
       "      <td>JPY</td>\n",
       "      <td>45000000</td>\n",
       "      <td>98863825</td>\n",
       "      <td>414327</td>\n",
       "      <td>910266</td>\n",
       "      <td>8051</td>\n",
       "      <td>1</td>\n",
       "      <td>8</td>\n",
       "      <td>2019</td>\n",
       "    </tr>\n",
       "    <tr>\n",
       "      <th>3</th>\n",
       "      <td>Games</td>\n",
       "      <td>Chiba-shi</td>\n",
       "      <td>JPY</td>\n",
       "      <td>16665000</td>\n",
       "      <td>23606140</td>\n",
       "      <td>148285</td>\n",
       "      <td>210047</td>\n",
       "      <td>1705</td>\n",
       "      <td>1</td>\n",
       "      <td>30</td>\n",
       "      <td>2018</td>\n",
       "    </tr>\n",
       "    <tr>\n",
       "      <th>4</th>\n",
       "      <td>Technology</td>\n",
       "      <td>Tokyo</td>\n",
       "      <td>JPY</td>\n",
       "      <td>15000000</td>\n",
       "      <td>17406300</td>\n",
       "      <td>133229</td>\n",
       "      <td>154601</td>\n",
       "      <td>656</td>\n",
       "      <td>1</td>\n",
       "      <td>60</td>\n",
       "      <td>2017</td>\n",
       "    </tr>\n",
       "  </tbody>\n",
       "</table>\n",
       "</div>"
      ],
      "text/plain": [
       "     category project_location original_currency  goal_original_currency  \\\n",
       "0       Games            Osaka               JPY                68000000   \n",
       "1       Games            Tokyo               JPY                53808516   \n",
       "2       Games         Ishikawa               JPY                45000000   \n",
       "3       Games        Chiba-shi               JPY                16665000   \n",
       "4  Technology            Tokyo               JPY                15000000   \n",
       "\n",
       "   pledged_orginal_currency  goal_usd  pledged_usd  num_backers  success  \\\n",
       "0                  81030744    623968       743538        12613        1   \n",
       "1                 481621841    510735      4571420        46307        1   \n",
       "2                  98863825    414327       910266         8051        1   \n",
       "3                  23606140    148285       210047         1705        1   \n",
       "4                  17406300    133229       154601          656        1   \n",
       "\n",
       "   duration_in_days  launched_year  \n",
       "0                40           2018  \n",
       "1                33           2020  \n",
       "2                 8           2019  \n",
       "3                30           2018  \n",
       "4                60           2017  "
      ]
     },
     "execution_count": 2,
     "metadata": {},
     "output_type": "execute_result"
    }
   ],
   "source": [
    "kickstarter_data = pd.read_csv(\"kickstarter_data\")\n",
    "kickstarter_data.head()"
   ]
  },
  {
   "cell_type": "code",
   "execution_count": 4,
   "metadata": {},
   "outputs": [
    {
     "data": {
      "image/png": "[encoded data removed]",
      "text/plain": [
       "<Figure size 640x480 with 2 Axes>"
      ]
     },
     "metadata": {},
     "output_type": "display_data"
    }
   ],
   "source": [
    "corr = kickstarter_data[[\"goal_usd\",\"pledged_usd\", \"num_backers\",\n",
    "                         \"duration_in_days\", \"launched_year\"]].corr()\n",
    "sns.heatmap(corr, annot = True)\n",
    "plt.show()"
   ]
  },
  {
   "cell_type": "markdown",
   "metadata": {},
   "source": [
    "THIS CORELATION MAP DOESNT TELL US ANYTHING OTHER THAN THE CORRELATION BETWEEN EACH PREDICTOR WITH OTHER PREDICTORS :CRY:"
   ]
  },
  {
   "cell_type": "markdown",
   "metadata": {},
   "source": [
    "### **Pre-registration 1:**"
   ]
  },
  {
   "cell_type": "markdown",
   "metadata": {},
   "source": []
  },
  {
   "cell_type": "code",
   "execution_count": null,
   "metadata": {},
   "outputs": [],
   "source": []
  },
  {
   "cell_type": "markdown",
   "metadata": {},
   "source": [
    "### **Pre-registration 2:**"
   ]
  },
  {
   "cell_type": "markdown",
   "metadata": {},
   "source": []
  },
  {
   "cell_type": "code",
   "execution_count": null,
   "metadata": {},
   "outputs": [],
   "source": []
  },
  {
   "cell_type": "markdown",
   "metadata": {},
   "source": [
    "### **Pre-registration 3:**"
   ]
  },
  {
   "cell_type": "markdown",
   "metadata": {},
   "source": []
  },
  {
   "cell_type": "code",
   "execution_count": null,
   "metadata": {},
   "outputs": [],
   "source": []
  },
  {
   "cell_type": "markdown",
   "metadata": {},
   "source": [
    "## Permutation Test"
   ]
  },
  {
   "cell_type": "markdown",
   "metadata": {},
   "source": [
    "Since our variables all have low correlation (look at the correlation heat map in Phase 2 doc catherine vicki), we will perform a permutation test to determine if the results were from chance or the data is significant.\n",
    "\n",
    "(copied from lecture)If there was no connection between X and Y, what is the chance we would get a slope as large as the one we actually observed? We can simulate no connection between X and Y by shuffling the order of X values"
   ]
  },
  {
   "cell_type": "markdown",
   "metadata": {},
   "source": [
    "## Evaluation of Significance"
   ]
  },
  {
   "cell_type": "markdown",
   "metadata": {},
   "source": [
    "## Conclusions"
   ]
  },
  {
   "cell_type": "markdown",
   "metadata": {},
   "source": [
    "## Limitations"
   ]
  },
  {
   "cell_type": "markdown",
   "metadata": {},
   "source": [
    "## Acknowledgements and Bibliography"
   ]
  }
 ],
 "metadata": {
  "kernelspec": {
   "display_name": "info2950",
   "language": "python",
   "name": "python3"
  },
  "language_info": {
   "codemirror_mode": {
    "name": "ipython",
    "version": 3
   },
   "file_extension": ".py",
   "mimetype": "text/x-python",
   "name": "python",
   "nbconvert_exporter": "python",
   "pygments_lexer": "ipython3",
   "version": "3.12.3"
  }
 },
 "nbformat": 4,
 "nbformat_minor": 2
}
