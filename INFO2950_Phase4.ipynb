{
 "cells": [
  {
   "cell_type": "markdown",
   "metadata": {},
   "source": [
    "# INFO 2950 Project Phase IV\n",
    "Tina Chen (tc663), Catherine Fang (cf533), Vicki Chen (vc332)"
   ]
  },
  {
   "cell_type": "markdown",
   "metadata": {},
   "source": [
    "## Table of Contents: EDIT!!!!\n",
    "1. [Introduction](#introduction)\n",
    "    - [Background Information and Context](#background)\n",
    "    - [Research Questions](#researchquestions)\n",
    "    - [Summary of Findings](#overview)\n",
    "2. [Data Description and Cleaning](#cleaning)\n",
    "    - [Raw Dataset Description]()\n",
    "    - [Cleaned Dataset Description]()\n",
    "3. [Preregistration Statments]()\n",
    "    - [1: Multivariable Logistic Regression]()\n",
    "    - [2: Currency and Success T-test]()\n",
    "4. [Data Analysis]()\n",
    "    - [Successful Campaigns Over Time]()\n",
    "5. [Q1: Is there a relationship between lower test scores/more failures and higher alcohol consumption?](#Q1)\n",
    "    - [Linear Regression](#linRegQ1)\n",
    "    - [Permutations](#permute)\n",
    "5. [Q2: Can parental status have an impact on their high school aged child's consumption?](#Q2)\n",
    "    - [Q2.1: Would a high schooler with parents who both work in healthcare drink less?](#Q2.1)\n",
    "    - [T-test](#ttest)\n",
    "6. [Evaluation of Significance]()\n",
    "7. [Limitations](#limitations)\n",
    "8. [Conclusion](#conclusion)\n",
    "9. [Acknowledgements and Bibliography](#references)"
   ]
  },
  {
   "cell_type": "markdown",
   "metadata": {},
   "source": [
    "## Introduction"
   ]
  },
  {
   "cell_type": "markdown",
   "metadata": {},
   "source": [
    "** Note: In this document, the phrases, 'Kickstarter campaign' and 'Kickstarter project' are used interchangeably.\n",
    "\n",
    "Kickstarter is a crowdfunding website that allows creators to create fundraising campaigns to fund startups, products, and projects to help them become a reality. Kickstarter campaigns have many factors that can influence how likely they are to successfully reach their target fundraising goal. These factors include category of the project, duration of a project, location the project is based in, original currency of the campaign, and number of backers. The focus of our research is to examine the factors that lead to a project being successful to identify any predictors of project success, and determine which factors are the best predictors of a project's success. \n",
    "\n",
    "Previous research had been done on a similar Kickstarter datatset, mainly using R, with analyses on amount of projects per category and type of category on success. Results show that the Film & Video category has the greatest amount of projects, but though the Dance category has the smallest quantity, it has the highest success rate (Kim, 2024). However, this research only used linear regression models to predict the relationship between categories and success, and also took canceled and suspended projects into account. Our project takes a narrower view on success as a binary variable with unsuccessful being defined as a failed project, since canceled and suspended projects are projects that have been stopped prematurely due to outside factors, rather than the variables we're analyzing. We'll also be implement logistic regression models rather than linear regressions because they're a better fit for the relationship, since our output will be a binary variable. We'll also expand on past research to analyze multiple predictors of success, and how they might correlate with one another to influence the outcome of a campaign. \n",
    "\n",
    "Research Question: Are there any relationships between the predictors (category of project, location, duration of project, currency) and the success of a Kickstarter project?\n",
    "- What is the relationship between the category of the campaign and the average campaign goals for each category, by success vs failed projects? Are the two correlated with one another, and which influence success more? \n",
    "  - Which category has the highest number of successful campaigns?\n",
    "  - Is there a optimal project duration to optimize chances of success?\n",
    "- How do Kickstarter project success rates compare for US vs Non-US based projects?\n",
    "- How do projects' success rates compare considering the projects' orignal currencies? \n",
    "- Which year has the most projects that were successful?\n",
    "\n",
    "Findings to this project can help individuals with potential Kickstarter campaign ideas optimize their chances of success launching a campaign. "
   ]
  },
  {
   "cell_type": "markdown",
   "metadata": {},
   "source": [
    "## Data Description and Data Cleaning"
   ]
  },
  {
   "cell_type": "markdown",
   "metadata": {},
   "source": [
    "### Raw Dataset Description\n",
    "\n",
    "The attributes (columns) of the clean dataset are the PID (Project ID), Category (numbers indicating what topic the project falls under), Subcategory (numbers indicating the subtopics within each category), the Project Location Name, State, County, and Country. Other relevant attributes included are the Project Currency, the Project’s Original Goal (how much money the creators were aiming for), amount of money pledged, the number of backers, the launched date, deadline date, and state. State is defined as either suspended (funding for a project is stopped when the project violates Kickstarter’s rules), canceled (the creators of a project dropped the project themselves), failed (the project didn’t meet funding goals), and successful (project meets funding goals). Each observation (row) corresponds to one unique project, indexed with a CaseID.\n",
    "\n",
    "The raw dataset was created by Jonathan Leland, Kickstarter’s Head of Insights for a cross-sectional study on the different creative projects that seek crowdfunding. He created the dataset to observe data on the projects from Kickstarter. \n",
    "\n",
    "The creation of this dataset is funded by Kickstarter Data, the company crowdfunding platform that directs the Kickstarter Project. The study is distributed through the Inter-University Consortium for Political and Social Research (ICPSR). \n",
    "\n",
    "Some columns were presented as optional for users to fill out, so in the raw data there are some rows with missing values. For example, for the PROJECT_LOCATION_STATE, PROJECT_LOCATION_COUNTY, PROJECT_LOCATION_COUNTRY column, there are rows with blank values. However, there are no missing values in the PROJECT_LOCATION_NAME, meaning that the project creators were required to put down the location name for their project. \n",
    "\n",
    "ICPSR processed the data by creating variable/value labels, creating an online analysis version with question text, and \n",
    "checked the data for undocumented or out-of-range codes. In addition, several restrictions were placed on the data before releasing it for public use to ensure survey participant anonymity. The data was split into a public-use file, a restricted-use file, and file containing information on the backers of projects. \n",
    "\n",
    "ICPSR datasets are checked for condidentiality of survey participants. The names of the people/groups who created past Kickstarter projects (NAME) and the links to their projects’ websites (URL_NAME), and the descriptions of their projects (BLURB) are not shown in the public data set that was used as the raw dataset for this project. This ensures anonymity of survey participants and prevents disclosure risk from survey participants.\n",
    "\n",
    "Raw Data was collected by downloading the delimited data from the study at this link, https://www.icpsr.umich.edu/web/ICPSR/studies/38050/summary and Git Large Language Storage was used to upload the raw files onto Github. \n"
   ]
  },
  {
   "cell_type": "markdown",
   "metadata": {},
   "source": [
    "### Cleaned Dataset Description\n",
    "\n",
    "The clean dataset was tailored according to our research questions. We dropped redacted information (NAME, PROJECT_PAGE_LOCATION_COUNTRY, URL_NAME) and other attributes we did not need to answer our research question (\"SUBCATEGORY\", \"UID\", \"PROJECT_PAGE_LOCATION_STATE\", \"PROJECT_PAGE_LOCATION_COUNTY\").\n",
    "\n",
    "We kept the Category, PROJECT_PAGE_LOCATION_NAME, PROJECT_CURRENCY, GOAL_IN_ORIGINAL_CURRENCY, PLEDGED_IN_ORIGINAL_CURRENCY, GOAL_IN_USD, PLEDGED_IN_USD, BACKERS_COUNT, LAUNCHED_DATE, DEADLINE_DATE, and STATE attributes since we directly need them to find relationships between their impact on the STATE (success or failure of the project).\n",
    "\n",
    "This version of the clean dataset was created by Tina Chen (tc663), Catherine Fang (cf533), and Vicki Chen (vc332) to find any predictors of a Kickstarter project's success and gain insights from past Kickstarter projects to help future Kickstarter campaigns succeed and avoid any predictors of failure.  \n",
    "\n",
    "The creation of this dataset was not funded.\n",
    "\n",
    "Since the raw dataset was created from survey data and survey participants were from a wide variety of countries with many different languages, the survey's collected data may be subject to participant error, misinterpretations, and language barriers. In addition, only the public dataset was available for public download, and thus, the NAME, PROJECT_PAGE_LOCATION_COUNTRY, and URL_NAME were not available and could only be found in the restricted dataset. In addition, since our research question only took into consideration factors for predicting the success and failure of a project, we did not include canceled or suspended projects in our cleaned dataset. \n",
    "\n",
    "Preprocessing of the raw dataset was done by Jonathan Leland and distributed by the Inter-University Consortium for Political and Social Research (ICPSR). Details of the preprocessing can be found in the Raw Dataset Description section, found above.\n",
    "\n",
    "As above, in the raw dataset, the anonymity of survey particpants was preserved during the creation of the raw dataset and we did not attempt to violate their anonymity during the creation of this cleaned dataset. Survey particpants expected the raw dataset to be used for research purposes only, provided their anonymity was not preserved, but we are able to use the publically available dataset since the preprocessing of the public dataset preserved survey particpants' anonymity.\n",
    "\n",
    "The cleaned dataset summary be found at this Github link: https://github.com/catherine-fang-git/info2950finalproject/blob/main/data_cleaning.ipynb"
   ]
  },
  {
   "cell_type": "markdown",
   "metadata": {},
   "source": [
    "# **Preregistration Statements**"
   ]
  },
  {
   "cell_type": "markdown",
   "metadata": {},
   "source": [
    "### **1. Multivariable Logistic Regression**"
   ]
  },
  {
   "cell_type": "markdown",
   "metadata": {},
   "source": [
    "*Note: This is a combination of Hypothesis 1 and Hypothesis 3 from Phase 3 after receiving feedback that we should consider including more factors in the regression. We realized that these two preregistration statements were similar in that we were comparing a variable to the success rate and it may be interesting to analyze factors that are established prior to a campaign being launched and its relationship to success.\n",
    "\n",
    "#### **Hypothesis: Multiple variables will result in better predictions of a whether a campaign is likely to succeed or not.**\n",
    "\n",
    "Both hypotheses will have a null hypothesis that the respective independent variable's coefficient is 0, which would indicate that the variable has no effect on success.\n",
    " - Hypothesis 1: We hypothesize that projects with a lower campaign goal will result in a higher success rate, because a lower campaign goal would not require as many people to pledge to the campaign compared to a campaign with a higher campaign goal to reach the goal and be successful. The alternative hypothesis is that campaign goal coefficient is less than 0.\n",
    "\n",
    " - Hypothesis 2: We expect that projects with a larger time difference between launch and deadline will have a greater likelihood of success because a longer campaign duration may allow for more backers to support and pledge to the campaign, increasing the chances of the campaign to be successful. The alternative hypothesis is that campaign goal coefficient is less than 0. \n",
    "\n",
    "#### **Analysis**:\n",
    "A logistic regression with multiple variables will be performed to determine if success is greater with multiple predictors as inputs. These predictors will be duration of project, and campaign goal. These inputs were chosen as they are factors that are determined before a campaign is launched compared to variables such as number of backers or amount pledged, which are variables determined after a campaign is launched. Performing a multivariable regression may help to explain how there are many factors that can lead to the success of a campiagn, which can not be explained by just one factor. We'll perform a one-sided hypothesis test to check the significance of the relationship through the beta coefficient and its p-value. \n",
    "\n",
    "We will split the data into training and testing sets, and use a significance level of alpha = 0.05. \n",
    "\n",
    "Permutation tests will also be performed on the variables to see if the data is significant or it is just by chance."
   ]
  },
  {
   "cell_type": "markdown",
   "metadata": {},
   "source": [
    "### **2. Original Currency vs Success Rate**"
   ]
  },
  {
   "cell_type": "markdown",
   "metadata": {},
   "source": [
    "It was found in Phase 2 that the average success rate of all currencies is 0.459, the minimum average success rate is 0.346 and is MXN (Mexican Pesos), and the maximum average success rate is 0.698 and is HKD (Hong Kong Dollars). \n",
    "\n",
    "There is a range of 15 different original currencies that Kickstart campaigns have used when collecting funds. These currencies are listed in order of most number of successful campaigns: (USD, GBP, EUR, CAD, AUD, HKD, MXN, SEK, JPY, SGD, NZD, DKK, CHF, NOK, PLN). \n",
    "\n",
    "#### **Hypothesis:** \n",
    "We predict that we will reject the null hypothesis that HKD is not significantly more successful than other Kickstarter campaigns, on average. Instead, we accept the alternative hypothesis that HKD is significantly more successful than other Kickstarter campaigns, on average. We also predict that we will fail to reject the null hypothesis that MXN is not significantly less successful than other Kickstarter campaigns, on average. Thus, we will accept the null hypothesis. \n",
    "\n",
    "1 - The Null Hypothesis, H<sub>0</sub>, is that the original currency HKD is not significantly more successful than other Kickstarter campaigns, on average. \n",
    "The Alternative Hypothesis, H<sub>1</sub>, is that HKD is signficantly more successful than other Kickstarter campaigns, on average.\n",
    "\n",
    "2 - The Null Hypothesis, H<sub>0</sub>, is that the original currency MXN is not significantly less successful than other Kickstarter campaigns, on average. \n",
    "The Alternative Hypothesis, H<sub>1</sub>, is that MXN is signficantly less successful than other Kickstarter campaigns, on average.\n",
    "\n",
    "#### **Analysis**:\n",
    "\n",
    "In order to find if certain currencies like HKD and MXN are significantly more successful or significantly less successful than the average project that uses one of the other 13 currencies, we need to conduct an independent t-test. More specifically, we will conduct 2, one-sided t-tests that each have 1 null and 1 alternative hypothesis.\n",
    "\n",
    "We will use the scipy.stats method, ttest_ind and choose specific categories to test for significance to avoid p-hacking.\n",
    "\n",
    "We are able to conduct a t-test because the statistic we are testing for, average success rate, is normally distributed, as shown in the horizontal bar graph calculated in Phase 2 (Exploratory Data Analysis), or [later in this file](#horiz_currency_bargraph)\n",
    "\n",
    "We will then need to encode the categorical variables, currency, to numerical ones to conduct an LLS and then check for the significance of certain varaibles in the LLS using the Wald test.\n"
   ]
  },
  {
   "cell_type": "markdown",
   "metadata": {},
   "source": [
    "## **Data Analysis**"
   ]
  },
  {
   "cell_type": "code",
   "execution_count": null,
   "metadata": {},
   "outputs": [],
   "source": [
    "import pandas as pd\n",
    "import numpy as np\n",
    "import matplotlib.pyplot as plt\n",
    "from sklearn.linear_model import LinearRegression, LogisticRegression\n",
    "from sklearn.model_selection import train_test_split \n",
    "import seaborn as sns\n",
    "import duckdb\n",
    "import statsmodels.api as sm\n",
    "from sklearn import preprocessing\n",
    "import math\n",
    "from scipy.stats import ttest_ind"
   ]
  },
  {
   "cell_type": "markdown",
   "metadata": {},
   "source": [
    "Below we imported our cleaned data (kickstarter_data.csv). More detailed data cleaning steps can be found in the data_cleaning.ipynb file."
   ]
  },
  {
   "cell_type": "code",
   "execution_count": null,
   "metadata": {},
   "outputs": [],
   "source": [
    "kickstarter_data = pd.read_csv(\"kickstarter_data.csv\")\n",
    "kickstarter_data.head()"
   ]
  },
  {
   "cell_type": "markdown",
   "metadata": {},
   "source": [
    "### Data Summary"
   ]
  },
  {
   "cell_type": "markdown",
   "metadata": {},
   "source": [
    "We wanted to explore our dataset and determine how large of a dataset we are working with. We also wanted to find the success rate to determine how much of our dataset are successful projects. Since the success rate came out to be around 46.7%, this means our dataset is relatively equally split between successful and nonsuccessful campaigns, with slightly more nonsuccessful campaigns."
   ]
  },
  {
   "cell_type": "code",
   "execution_count": null,
   "metadata": {},
   "outputs": [],
   "source": [
    "total = len(kickstarter_data)\n",
    "success = kickstarter_data[kickstarter_data[\"success\"] == 1].count()\n",
    "print(f\"Total Campaigns: {total}\")\n",
    "print(f\"Success Rate {np.round(success[\"success\"]/total, 3)}\")"
   ]
  },
  {
   "cell_type": "markdown",
   "metadata": {},
   "source": [
    "### Correlation Heat Map of Predictors"
   ]
  },
  {
   "cell_type": "markdown",
   "metadata": {},
   "source": [
    "We plotted a correlation heat map to see if there are any strong correlations between our predictors that we plan to analyze. Since our main research question focuses on determining predictors of success, we wanted to make sure that there may not be any collinearity between variables. Since success in our dataset is a binary variable, we can not find the correlation between each factor and the success itself, so it was not included in the correlation map."
   ]
  },
  {
   "cell_type": "code",
   "execution_count": null,
   "metadata": {},
   "outputs": [],
   "source": [
    "corr = kickstarter_data[[\"goal_usd\",\"pledged_usd\", \"num_backers\",\n",
    "                         \"duration_in_days\", \"launched_year\"]].corr()\n",
    "sns.heatmap(corr, annot = True)\n",
    "plt.show()"
   ]
  },
  {
   "cell_type": "markdown",
   "metadata": {},
   "source": [
    "This heatmap shows the correlation bewteen different predictors of success. Since there is a high correlation between amount pledged in USD and the number of backers, this is an indicator of collinearity between these 2 factors. The success column was not included in the correlation heat map because since it is a binary variable, the values shown on the heatmap would not provide meaningful information about the relationship between variables and success."
   ]
  },
  {
   "cell_type": "markdown",
   "metadata": {},
   "source": [
    "### Campaigns Over Time"
   ]
  },
  {
   "cell_type": "markdown",
   "metadata": {},
   "source": [
    "We plotted the year the Kickstarter campaign was launched versus the number of Kickstarter campaigns in that year. We were curious if there was a relationship between the total campaigns launched per year and how many successful projects there were in each year. It may be possible the economy was better in certain years or Kickstarter might've been more popular during this time that prompted more campaigns to be launched."
   ]
  },
  {
   "cell_type": "code",
   "execution_count": null,
   "metadata": {},
   "outputs": [],
   "source": [
    "campaigns_by_yr = kickstarter_data[\"launched_year\"].value_counts().sort_index(axis=0).plot(\n",
    "                    kind= \"bar\", label = \"Failed Campaigns\", fontsize = 10, color = \"firebrick\")\n",
    "campaigns_by_yr.set_xlabel(\"Year\")\n",
    "campaigns_by_yr.set_ylabel(\"Count\")\n",
    "\n",
    "success_proj = kickstarter_data[kickstarter_data[\"success\"] == 1]\n",
    "success_campaigns_by_yr = success_proj[\"launched_year\"].value_counts().sort_index(axis=0).plot(\n",
    "                    kind= \"bar\", rot = 0, figsize = (10, 6), fontsize = 10, \n",
    "                    label = \"Successful Campaigns\", color = \"forestgreen\")\n",
    "\n",
    "plt.title(\"Total Campaigns Over Time\")\n",
    "plt.xlabel(\"Category\")\n",
    "plt.ylabel(\"Count\")\n",
    "plt.ylim(0,70000)\n",
    "plt.legend()\n",
    "plt.show()"
   ]
  },
  {
   "cell_type": "markdown",
   "metadata": {},
   "source": [
    "Based on the bar graph, the most amount of campaigns were launched during 2015 and it seems that each year after 2012 have similar numbers of successful campaigns. This lack of successful campaigns in earlier years follows the trend of total campaigns and may be due to the lack of popularity of Kickstarter as it was founded in 2009. The years 2014 and 2015 are slightly higher than the rest of the years but not that significant, which indicates that the success of a campaign is fairly consistent throughout each year."
   ]
  },
  {
   "cell_type": "markdown",
   "metadata": {},
   "source": [
    "### Categories"
   ]
  },
  {
   "cell_type": "markdown",
   "metadata": {},
   "source": [
    "#### Overall Success of Categories"
   ]
  },
  {
   "cell_type": "markdown",
   "metadata": {},
   "source": [
    "We plotted the number of the Kickstarter campaigns in each category. We were also interested to see whether the most popular category would also have the most amount of successful campaigns and graphed how much of the total campaigns were successful for each category."
   ]
  },
  {
   "cell_type": "code",
   "execution_count": null,
   "metadata": {},
   "outputs": [],
   "source": [
    "category = kickstarter_data[\"category\"].value_counts().sort_index(axis=0).plot(kind= \"bar\", \n",
    "                    rot = 75, figsize = (11, 6), fontsize = 11, color = \"firebrick\",\n",
    "                    label = \"Failed Campaigns\")\n",
    "\n",
    "success_proj = kickstarter_data[kickstarter_data[\"success\"] == 1]\n",
    "scategory = success_proj[\"category\"].value_counts().sort_index(axis=0).plot(kind= \"bar\", \n",
    "                    rot = 75, figsize = (11, 6), fontsize = 11, color= \"forestgreen\",\n",
    "                    label = \"Successful Campaigns\")\n",
    "\n",
    "plt.xlabel(\"Category\")\n",
    "plt.ylabel(\"Count\")\n",
    "plt.title(\"Overall Successful Campaigns By Category\")\n",
    "plt.legend()\n",
    "plt.ylim(0,80000)\n",
    "plt.show()"
   ]
  },
  {
   "cell_type": "markdown",
   "metadata": {},
   "source": [
    "The bar graph shows that the most common campaign category is \"Film & Video\". However, interestingly, the category \"Games\" has the most successful campaigns out of the all the categories, followed with \"Music\" as the second highest and \"Film & Video\" as the third highest."
   ]
  },
  {
   "cell_type": "markdown",
   "metadata": {},
   "source": [
    "#### Category Success Rate Over Time"
   ]
  },
  {
   "cell_type": "markdown",
   "metadata": {},
   "source": [
    "While the above bar graphs show the overall success rate of each category, we were also interested in how the success rate changes over time. Thus, we plotted a line graph of success rate of each category."
   ]
  },
  {
   "cell_type": "code",
   "execution_count": null,
   "metadata": {},
   "outputs": [],
   "source": [
    "category_df = duckdb.sql(\"\"\" SELECT launched_year, category,\n",
    "                            SUM(CASE \n",
    "                                WHEN success = 1 THEN 1 ELSE 0\n",
    "                                END) * 1.0 / COUNT(*) AS success_rate\n",
    "                            FROM kickstarter_data \n",
    "                            GROUP BY launched_year, category\n",
    "                            ORDER BY launched_year, category\n",
    "                            \"\"\").df()\n",
    "unique_categories = category_df['category'].unique() \n",
    "\n",
    "category_colors = {\"Art\":\"darkorange\", \"Comics\": \"blue\", \"Dance\": \"green\", \n",
    "                    \"Design\": \"gray\", \"Fashion\": \"brown\", \"Food\": \"darkslategray\",\n",
    "                    \"Film & Video\": \"red\", \"Games\": \"cyan\",\n",
    "                    \"Journalism\":\"purple\", \"Music\": \"pink\", \n",
    "                    \"Photography\": \"black\", \"Technology\": \"indigo\",\n",
    "                    \"Theater\": \"deeppink\", \"Publishing\": \"greenyellow\", \n",
    "                    \"Crafts\":\"lightcoral\"}\n",
    "plt.figure(figsize=(17, 14)) \n",
    "for category in unique_categories: \n",
    "    category_data = category_df[category_df[\"category\"] == category] \n",
    "    plt.plot(category_data[\"launched_year\"], \n",
    "             category_data['success_rate'], marker='o', \n",
    "             color = category_colors.get(category), label=category)\n",
    "\n",
    "\n",
    "plt.title(\"Success Rate of Projects Over Time by Category\", fontsize = 20) \n",
    "plt.xlabel(\"Year\", fontsize = 14)\n",
    "plt.ylabel(\"Success Rate\", fontsize = 14) \n",
    "plt.ylim(.1, .9) \n",
    "plt.legend(title = \"Category\", loc = \"upper left\", bbox_to_anchor = (1, 1))\n",
    "plt.show()"
   ]
  },
  {
   "cell_type": "markdown",
   "metadata": {},
   "source": [
    "### Duration, Campaign Goal and Success"
   ]
  },
  {
   "cell_type": "markdown",
   "metadata": {},
   "source": [
    "We wanted to see if success can be predicted from campaign goal and campaign duration because these two variables are two factors that are determined before a campaign is launched compared to variables such as number of backers or amount pledged, which are variables determined after a campaign is launched. goal_usd was log-transformed due to the large range of goal_usd compared to duration_in_days."
   ]
  },
  {
   "cell_type": "code",
   "execution_count": null,
   "metadata": {},
   "outputs": [],
   "source": [
    "kickstarter_data[\"log_goal_usd\"] = np.log(kickstarter_data[\"goal_usd\"] + 1)\n",
    "plt.figure(figsize=(15, 11)) \n",
    "sns.scatterplot(kickstarter_data, x = 'log_goal_usd', y = 'duration_in_days', \n",
    "                hue = 'success')\n",
    "plt.title(\"Duration, Campaign Goal and Success\", fontsize = 20) \n",
    "plt.xlabel(\"Log Campaign Goal\", fontsize = 14)\n",
    "plt.ylabel(\"Duration (Days)\", fontsize = 14)\n",
    "plt.show()"
   ]
  },
  {
   "cell_type": "markdown",
   "metadata": {},
   "source": [
    "It seems that most campaigns are successful when the log_goal_usd is low and the duration_in_days is also lower. It seemed like a lot of data points were centered around the middle of the log_goal_usd, and there were a lot of points for the durations 30, 60 and 90 for campaign goal. We wondered if log_goal_usd and duration_in_days followed a normal distribution or not. "
   ]
  },
  {
   "cell_type": "code",
   "execution_count": null,
   "metadata": {},
   "outputs": [],
   "source": [
    "plt.figure(figsize = (20, 9))\n",
    "plt.subplot(1, 2, 1)\n",
    "plt.hist(kickstarter_data[\"log_goal_usd\"], 20, density = 1)\n",
    "plt.title(\"Distribution of Log Campaign Goal\")\n",
    "plt.xlabel(\"Log Campaign Goal USD\")\n",
    "plt.ylabel(\"Density\")\n",
    "\n",
    "plt.subplot(1, 2, 2)\n",
    "plt.hist(kickstarter_data[\"duration_in_days\"], 20, density = 1)\n",
    "plt.title(\"Distribution of Duration\")\n",
    "plt.xlabel(\"Duration\")\n",
    "plt.ylabel(\"Density\")\n",
    "\n",
    "plt.tight_layout()\n",
    "plt.show()"
   ]
  },
  {
   "cell_type": "markdown",
   "metadata": {},
   "source": [
    "The plotted histogram indeed shows that the data looks like it follows a normal distribution with a bell shape. This indicates that majority of the campaigns set their goal to be around the mean, around 1,808 - 8,103 range (7.5 - 9 log range).   "
   ]
  },
  {
   "cell_type": "markdown",
   "metadata": {},
   "source": [
    "#### Campaign Goal"
   ]
  },
  {
   "cell_type": "markdown",
   "metadata": {},
   "source": [
    "We wanted to run a regression on the campaign goal of a project and its probability of success to determine its relationship."
   ]
  },
  {
   "cell_type": "code",
   "execution_count": null,
   "metadata": {},
   "outputs": [],
   "source": [
    "def Normalizer(df_cols):\n",
    "    scaler = preprocessing.StandardScaler().fit(df_cols)\n",
    "    return(scaler.transform(df_cols))"
   ]
  },
  {
   "cell_type": "code",
   "execution_count": null,
   "metadata": {},
   "outputs": [],
   "source": [
    "X1 = pd.DataFrame(kickstarter_data[\"log_goal_usd\"])\n",
    "y1 = pd.Series(kickstarter_data[\"success\"])\n",
    "X1_train, X1_test, y1_train, y1_test = train_test_split(X1, y1, test_size=0.3, random_state=2950)\n",
    "\n",
    "goal_model = LogisticRegression().fit(X1_train,y1_train)\n",
    "\n",
    "coefficient = np.round(goal_model.coef_[0][0], 2)\n",
    "intercept = np.round(goal_model.intercept_[0], 2)\n",
    "print(f\"The model's coefficient is: {coefficient}\")\n",
    "print(f\"The model's intercept is: {intercept}\")\n",
    "\n",
    "goal_prediction = goal_model.predict_proba(X1)\n",
    "kickstarter_data[\"goal_success_prediction\"] = goal_prediction[:,1]\n",
    "sns.scatterplot(kickstarter_data, x = \"log_goal_usd\", y = \"goal_success_prediction\")\n",
    "plt.title(\"Campaign Goal (USD) vs Predicted Success Rate\")\n",
    "plt.xlabel(\"Campaign Goal (USD)\")\n",
    "plt.ylabel(\"Predicted Success Rate\")\n",
    "plt.ylim(0,1)\n",
    "plt.show()"
   ]
  },
  {
   "cell_type": "markdown",
   "metadata": {},
   "source": [
    "#### Campaign Duration"
   ]
  },
  {
   "cell_type": "markdown",
   "metadata": {},
   "source": [
    "We wanted to run a regression on the length of time of a project and its probability of success. We hypothesize that a project that has been running longer may have more time to promote and find backers, might have a higher probability of success."
   ]
  },
  {
   "cell_type": "code",
   "execution_count": null,
   "metadata": {},
   "outputs": [],
   "source": [
    "X1 = pd.DataFrame(kickstarter_data[\"duration_in_days\"])\n",
    "y1 = pd.Series(kickstarter_data[\"success\"])\n",
    "X1_train, X1_test, y1_train, y1_test = train_test_split(X1, y1, test_size=0.3, random_state = 2950) \n",
    "\n",
    "time_model = LogisticRegression().fit(X1_train,y1_train)\n",
    "coefficient = np.round(time_model.coef_[0][0], 2)\n",
    "intercept = np.round(time_model.intercept_[0], 2)\n",
    "print(f\"The model's coefficient is: {coefficient}\")\n",
    "print(f\"The model's intercept is: {intercept}\")\n",
    "\n",
    "time_hat_prediction = time_model.predict_proba(X1_train)\n",
    "time_test_prediction = time_model.predict_proba(X1_test)\n",
    "\n",
    "#run Logistic Regression on total data to visualize predictions\n",
    "time_model = LogisticRegression().fit(X1,y1)\n",
    "time_prediction = time_model.predict_proba(X1)\n",
    "time_success = time_prediction[:,1]\n",
    "kickstarter_data[\"time_success_prediction\"] = time_success\n",
    "sns.scatterplot(kickstarter_data, x = \"duration_in_days\", y = \"time_success_prediction\")\n",
    "plt.title(\"Time Difference vs Predicted Success Rate\")\n",
    "plt.xlabel(\"Time Difference (Days)\")\n",
    "plt.ylabel(\"Predicted Success Rate\")\n",
    "plt.ylim(0,1)\n",
    "plt.show()"
   ]
  },
  {
   "cell_type": "markdown",
   "metadata": {},
   "source": [
    "### Campaign's Original Currency vs Average Success Rate\n",
    "<a name=\"horiz_currency_bargraph\"></a>\n",
    "\n",
    "We created a new dataframe named 'currency_success_df' to better understand the project's currency, number of successful projects for each respective currency, the total number of projects for each respective currency, to calculate the success rate for projects of each respective currency.\n",
    "\n",
    "We also calculated the total number of different original currencies there were, which was 15.\n",
    "\n",
    "The SQL syntax for the CASE WHEN ELSE END statement that was used for sorting each successful project by their project currency and finding the average success rate of for each respective category was found on this website: https://www.w3schools.com/sql/sql_case.asp "
   ]
  },
  {
   "cell_type": "code",
   "execution_count": null,
   "metadata": {},
   "outputs": [],
   "source": [
    "currency_success_df = duckdb.sql(\"\"\"\n",
    "SELECT \n",
    "    original_currency,\n",
    "    SUM(CASE \n",
    "        WHEN success = 1 THEN 1 \n",
    "        END) AS num_successful,\n",
    "    COUNT(*) AS total_projects,\n",
    "    AVG(CASE \n",
    "        WHEN success = 1 THEN 1.0 \n",
    "        ELSE 0.0 END) AS success_rate\n",
    "FROM \n",
    "    kickstarter_data \n",
    "GROUP BY \n",
    "    original_currency\n",
    "ORDER BY num_successful DESC\n",
    "\"\"\").df()\n",
    "\n",
    "num_diff_currencies = len(currency_success_df)\n",
    "print(f\"The number of different currencies in this dataset is: {num_diff_currencies}\")\n",
    "\n",
    "currency_success_df.iloc[:15]"
   ]
  },
  {
   "cell_type": "markdown",
   "metadata": {},
   "source": [
    "We also calculated the average success rate across all currencies, the min average success rate, and the max average success rate. We graphed the project currency vs average success rate for each respective currency using a horizontal bar graph. \n",
    "\n",
    "The horizontal bar graph below is not approximately normally distributed since the ordering of currencies is arbitrary, since currency is a categorical variable. Thus, we needed to pivot away from using a t-test, since we cannot use a t-test if the statistic that we are trying to test is not normally distributed. "
   ]
  },
  {
   "cell_type": "code",
   "execution_count": null,
   "metadata": {},
   "outputs": [],
   "source": [
    "# need to calculate the OVERALL success rate! not the avg of mean of each currency group!\n",
    "overall_success_rate = currency_success_df['num_successful'].sum() / len(kickstarter_data)\n",
    "print(f\"Kickstarter Project Overall Success Rate: {overall_success_rate:.3f}\")\n",
    "\n",
    "mean_success_rate = currency_success_df['success_rate'].mean()\n",
    "print(f\"Average Success Rate Across Categories: {mean_success_rate:.3f}\")\n",
    "\n",
    "min_success_rate = np.min(currency_success_df['success_rate'])\n",
    "print(f\"Minimum Success Rate of all currencies is {min_success_rate:.3f}\")\n",
    "\n",
    "max_success_rate = np.max(currency_success_df['success_rate'])\n",
    "print(f\"Maximum Success Rate of all currencies is {max_success_rate:.3f}\")\n",
    "\n",
    "currency_success_plot = plt.barh(currency_success_df[\"original_currency\"],\n",
    "                currency_success_df[\"success_rate\"])\n",
    "\n",
    "plt.xlabel(\"Average Success Rate\")\n",
    "plt.ylabel(\"Currency\")\n",
    "plt.title(\"Average Success Rate for Different Currencies\")\n",
    "plt.show()"
   ]
  },
  {
   "cell_type": "markdown",
   "metadata": {},
   "source": [
    "Instead, we created a box and whisker plot to see if any of the datapoints could possibly be outliers and need to be examined more closely. \n",
    "\n",
    "It is important to note that the median plotted in this box plot is the mean of the averages of each currencies' average success rate, 0.459. The Overall Success Rate of all Kickstarter campaigns is 0.467, which differs slightly."
   ]
  },
  {
   "cell_type": "code",
   "execution_count": null,
   "metadata": {},
   "outputs": [],
   "source": [
    "currency_success_df.boxplot(column = \"success_rate\")\n",
    "plt.ylabel(\"average success rate\")\n",
    "plt.xlabel(\"currencies' average success rates\")\n",
    "plt.title(\"Average success rates across different currencies\")\n",
    "plt.show()"
   ]
  },
  {
   "cell_type": "markdown",
   "metadata": {},
   "source": [
    "Using the box and whisker plot, we saw that two currencies lie outside of the IQR of the box and whiskers plot: \n",
    "JPY, with a 0.637173 success rate, and HKD, with a 0.698391 success rate which means they should be furthere examined. We also observed that MXN is not identified as an outlier in the box and whisker plot above, and is instead included in the first quartile, Q1. \n",
    "\n",
    "We wanted to figure out how many standard deviations away JPY and HKD were from the median success rate, so we calculated the standard deviation and the z-scores of JPY and HKD."
   ]
  },
  {
   "cell_type": "code",
   "execution_count": null,
   "metadata": {},
   "outputs": [],
   "source": [
    "std_currency_success = np.std(currency_success_df['success_rate'])\n",
    "print(f\"Standard Deviation of currency success rate: {np.round(std_currency_success, 3)}\")\n",
    "\n",
    "median_success_rate = np.median(currency_success_df['success_rate'])\n",
    "print(f\"Median Success Rate: {np.round(median_success_rate, 3)}\")\n",
    "\n",
    "currency_success_df['z_score'] = (currency_success_df['success_rate'] - median_success_rate) / std_currency_success"
   ]
  },
  {
   "cell_type": "markdown",
   "metadata": {},
   "source": [
    "We then observed the z-scores for JPY and HKD. \n",
    "JPY is 2.053709 standard deviations from the median and HKD is 2.6793 standard deviations from the median. Since we cannot assume that the underlying data is not normally distributed, we are unable to determine whether these are or are not outliers with any degree of confidence."
   ]
  },
  {
   "cell_type": "code",
   "execution_count": null,
   "metadata": {},
   "outputs": [],
   "source": [
    "currency_success_df.loc[currency_success_df[\"original_currency\"] == 'JPY']"
   ]
  },
  {
   "cell_type": "code",
   "execution_count": null,
   "metadata": {},
   "outputs": [],
   "source": [
    "currency_success_df.loc[currency_success_df[\"original_currency\"] == 'HKD']"
   ]
  },
  {
   "cell_type": "markdown",
   "metadata": {},
   "source": [
    "### **Pre-registration 1: Multivariable Logistic Regression**"
   ]
  },
  {
   "cell_type": "markdown",
   "metadata": {},
   "source": [
    "In this section, we wanted to analyze whether having more predictors will have a stronger relationship with the success rate. The variables that we decided to include are:\n",
    "- duration of project (duration_in_days)\n",
    "- campaign goal (goal_usd)"
   ]
  },
  {
   "cell_type": "code",
   "execution_count": null,
   "metadata": {},
   "outputs": [],
   "source": [
    "kickstarter_train, kickstarter_test = train_test_split(kickstarter_data, test_size = 0.3, \n",
    "                                                       random_state = 2950)\n",
    "X = sm.add_constant(kickstarter_train[[\"log_goal_usd\", \"duration_in_days\"]]) \n",
    "y = kickstarter_train['success']\n",
    "\n",
    "# Fit logistic regression model\n",
    "logit_model = sm.Logit(y, X).fit()\n",
    "\n",
    "print(logit_model.summary())"
   ]
  },
  {
   "cell_type": "markdown",
   "metadata": {},
   "source": [
    "Since the p-values for both variables are 0.000 rounded to the third decimal, this means the p-value is significant as it is less than the alpha level of 0.05. This also indicates for both predictor, campaign goal and campaign duration, we reject the null hypothesis.\n",
    "\n",
    "As the campaign goal increases, the log odds of success decreases. The coefficient for log_goal_usd is around -0.3149 which indicates with all else equal, for every 1% increase in the campaign goal, the odds of success are multipled by around 0.730, which is a decrease of 27% in odds. \n",
    "\n",
    "As the duration increases, the log odds of success decreases. The coefficient for duration_in_days is around -0.0230 which indicates with all else equal, for every additional increase in the campaign duration, the odds of success are multipled by around 0.977, which is a decrease of 2.3% in odds. This is interesting as it is different from our proposed alternative hypothesis that projects with a larger time difference between launched date and deadline date, or duration, will have a greater likelihood of success.\n",
    "\n",
    "There are limitations to this regression as the constant value indicates that when the predictors variables are zero, the log odds of success is around 3.2869. However, realistically, it is not possible to have a campaign with 0 as its campaign goal and a campaign with a duration of 0. "
   ]
  },
  {
   "cell_type": "markdown",
   "metadata": {},
   "source": [
    "### **Pre-registration 2: Strength of Success**\n",
    "Within the 3 currencies identified above, JPY, HKD, and MXN, we will perform 3 different regressions to see if the JPY/HKD/MXN are significantly better/worse than all other kickstarter campaigns on average. We aim to determine whether JPY, HKD, and MXN are truly outliers or not. \n",
    "\n",
    "To do this, we need a new measure of success, strength of success. Previously, we defined success as binary, but now we will measure the strength of the success for each campaign to get a continuous variable to work with. We will calculate this by dividing the amount pledged in USD by the goal amount in USD. The stronger and more successful the campaign is, the higher, and more further away this \"strength\" number will be from 1.0. \n",
    "\n",
    "We made this a new column, strength_of_success, in the kickstarter_data dataframe to use later. We then used iloc to see that it was added to the last column of the dataframe."
   ]
  },
  {
   "cell_type": "code",
   "execution_count": 80,
   "metadata": {},
   "outputs": [
    {
     "data": {
      "text/html": [
       "<div>\n",
       "<style scoped>\n",
       "    .dataframe tbody tr th:only-of-type {\n",
       "        vertical-align: middle;\n",
       "    }\n",
       "\n",
       "    .dataframe tbody tr th {\n",
       "        vertical-align: top;\n",
       "    }\n",
       "\n",
       "    .dataframe thead th {\n",
       "        text-align: right;\n",
       "    }\n",
       "</style>\n",
       "<table border=\"1\" class=\"dataframe\">\n",
       "  <thead>\n",
       "    <tr style=\"text-align: right;\">\n",
       "      <th></th>\n",
       "      <th>goal_success_prediction</th>\n",
       "      <th>time_success_prediction</th>\n",
       "      <th>strength_of_success</th>\n",
       "    </tr>\n",
       "  </thead>\n",
       "  <tbody>\n",
       "    <tr>\n",
       "      <th>0</th>\n",
       "      <td>0.136116</td>\n",
       "      <td>0.416142</td>\n",
       "      <td>1.191628</td>\n",
       "    </tr>\n",
       "    <tr>\n",
       "      <th>1</th>\n",
       "      <td>0.144517</td>\n",
       "      <td>0.469370</td>\n",
       "      <td>8.950669</td>\n",
       "    </tr>\n",
       "    <tr>\n",
       "      <th>2</th>\n",
       "      <td>0.153748</td>\n",
       "      <td>0.656696</td>\n",
       "      <td>2.196975</td>\n",
       "    </tr>\n",
       "    <tr>\n",
       "      <th>3</th>\n",
       "      <td>0.206189</td>\n",
       "      <td>0.492470</td>\n",
       "      <td>1.416509</td>\n",
       "    </tr>\n",
       "    <tr>\n",
       "      <th>4</th>\n",
       "      <td>0.212351</td>\n",
       "      <td>0.277749</td>\n",
       "      <td>1.160416</td>\n",
       "    </tr>\n",
       "  </tbody>\n",
       "</table>\n",
       "</div>"
      ],
      "text/plain": [
       "   goal_success_prediction  time_success_prediction  strength_of_success\n",
       "0                 0.136116                 0.416142             1.191628\n",
       "1                 0.144517                 0.469370             8.950669\n",
       "2                 0.153748                 0.656696             2.196975\n",
       "3                 0.206189                 0.492470             1.416509\n",
       "4                 0.212351                 0.277749             1.160416"
      ]
     },
     "execution_count": 80,
     "metadata": {},
     "output_type": "execute_result"
    }
   ],
   "source": [
    "kickstarter_data[\"strength_of_success\"] = kickstarter_data[\"pledged_usd\"] / kickstarter_data[\"goal_usd\"]\n",
    "kickstarter_data.iloc[:5, -3:]"
   ]
  },
  {
   "cell_type": "markdown",
   "metadata": {},
   "source": [
    "We calculated N, the number of successful HKD projects and p, the probability of success for campaigns of all other currencies."
   ]
  },
  {
   "cell_type": "code",
   "execution_count": null,
   "metadata": {},
   "outputs": [
    {
     "name": "stdout",
     "output_type": "stream",
     "text": [
      "The number of successful HKD campaigns: N = 3038\n",
      "The probability of successf for campaigns using other currencies: p = 0.464\n"
     ]
    }
   ],
   "source": [
    "N = len(kickstarter_data[(kickstarter_data[\"original_currency\"] == \"HKD\") \n",
    "        & (kickstarter_data[\"success\"] == 1)])\n",
    "\n",
    "p = (len(kickstarter_data[kickstarter_data[\"success\"] == 1]) \n",
    "     - N) / (len(kickstarter_data) - N)\n",
    "\n",
    "print(f\"The number of successful HKD campaigns: N = {N}\")\n",
    "print(f\"The probability of success for campaigns using other currencies: p = {np.round(p, 3)}\")"
   ]
  },
  {
   "cell_type": "markdown",
   "metadata": {},
   "source": [
    "(serena williams ex, analyzing w probability distribution)\n",
    "\n",
    "Determine if the \n",
    "difference between HKD's success rate and the overall success rate, \n",
    "difference between JPY's success rate and the overall success rate, \n",
    "difference between MXN's success rate and the overall success rate are each statistically signficant or not. \n",
    "\n",
    "NOTE: We want to make sure that these observations are not due to random chance. We also want to test the two hypotheses outlined in the pre-registration statements and see if they can be rejected or if we will fail to reject them. "
   ]
  },
  {
   "cell_type": "markdown",
   "metadata": {},
   "source": [
    "## **Evaluation of Significance**"
   ]
  },
  {
   "cell_type": "markdown",
   "metadata": {},
   "source": [
    "Bootstrapping Hypothesis on multivariable logistic regression to determine the confidence interval and see if the regression coefficient falls within this confidence interval. "
   ]
  },
  {
   "cell_type": "code",
   "execution_count": null,
   "metadata": {},
   "outputs": [],
   "source": [
    "n_iterations = 1000\n",
    "bootstrap_coefs = np.zeros((n_iterations, 3))\n",
    "X = sm.add_constant(kickstarter_train[['log_goal_usd', 'duration_in_days']]) \n",
    "y = kickstarter_train['success'] \n",
    "initial_model = sm.Logit(y,X).fit()\n",
    "\n",
    "for i in range(n_iterations):\n",
    "    boot_sample = kickstarter_train.sample(n=len(kickstarter_train), replace=True)\n",
    "    X_boot = sm.add_constant(boot_sample[['log_goal_usd', 'duration_in_days']]) \n",
    "    y_boot = boot_sample['success'] \n",
    "    boot_model = sm.Logit(y_boot, X_boot).fit(disp=0)\n",
    "    bootstrap_coefs[i] = boot_model.params\n",
    "coef_ci = np.quantile(bootstrap_coefs, q=[0.025, 0.975])\n",
    "print(\"Bootstrap CI:\", coef_ci)\n",
    "\n",
    "#Visualizing\n",
    "plt.figure(figsize=(14, 6)) \n",
    "plt.subplot(1, 3, 1) \n",
    "plt.hist(bootstrap_coefs[:, 0], bins=30, color='blue', alpha=0.7, edgecolor='black') \n",
    "plt.title('Distribution of Intercept Coefficients') \n",
    "plt.axvline(x=3.2915, color='red')\n",
    "\n",
    "plt.subplot(1, 3, 2) \n",
    "plt.hist(bootstrap_coefs[:, 1], bins=30, color='green', alpha=0.7, edgecolor='black') \n",
    "plt.title('Distribution of Campaign Goal Coefficients') \n",
    "plt.axvline(x=-0.3151, color='red')\n",
    "\n",
    "plt.subplot(1, 3, 3) \n",
    "plt.hist(bootstrap_coefs[:, 2], bins=30, color='purple', alpha=0.7, edgecolor='black') \n",
    "plt.title('Distribution of Duration Coefficients')\n",
    "plt.axvline(x=-0.0231 , color='red')\n",
    "plt.show()"
   ]
  },
  {
   "cell_type": "markdown",
   "metadata": {},
   "source": [
    "## **Conclusions**"
   ]
  },
  {
   "cell_type": "markdown",
   "metadata": {},
   "source": []
  },
  {
   "cell_type": "markdown",
   "metadata": {},
   "source": [
    "## **Limitations**"
   ]
  },
  {
   "cell_type": "markdown",
   "metadata": {},
   "source": [
    "There are several limitations to our research as the data is limited to the Kickstarter public dataset. Since many variables on our public data tsv are restricted, including the project description, we can’t draw a clear relationship between what exactly about a specific category that leads to it being more or less successful than other categories. This affects the meaning of our results because there are unclear causes on why successful a project is successful, as we're only relying on the labels on the Categories of our cleaned data. We can answer our research question on which categories are successful, but can't expand further on the reasons why. \n",
    "\n",
    "The cleaned dataset used was also limited as we only used a portion of all the Kickstarter projects. We decided to remove projects that did not have a STATE of success or failed, which were cancelled and suspended campaigns. This indicates that our data analysis is based on solely on success or failed projects, and does not take into account cancelled or suspended campaigns. This binary view on the data can exclude projects that were close to succeeding or had a high probability of succeeding but were dropped last minute. Had those rows been labelled as successful, we could’ve used them to either enforce or counter our results. \n",
    "\n",
    "Another limitation in our collected data is that even though we can say that one factor is more directly related to success, there may be outside confounding variables (such as previous popularity of project creator, social media handles, advertising/promotion) that can influence each factor. So, we might not be finding the root causes of successes, and can only base our predictions on the factors given to us."
   ]
  },
  {
   "cell_type": "markdown",
   "metadata": {},
   "source": [
    "## **Acknowledgements and Bibliography**"
   ]
  },
  {
   "cell_type": "markdown",
   "metadata": {},
   "source": [
    "Grad TA Nicholas Guerra guided us to use a LLR and Wald test\n",
    "\n",
    "We'd like to thank our TAs, Nuo Cen and Anna Choi, for answering our questions and always being responsive to any concerns that were brought up between phases of our data science project.\n",
    "\n",
    "Thank you to all the TAs who were at consulting hours and helped us develop our coding data science skills.\n",
    "Logit Model Summary https://www.geeksforgeeks.org/logistic-regression-using-statsmodels/ and https://stackoverflow.com/questions/50350816/logistic-regression-get-the-sm-logit-values-python-statsmodels\n",
    "\n",
    "Side by side plots: https://stackoverflow.com/questions/42818361/how-to-make-two-plots-side-by-side\n",
    "\n",
    "Case Expression in SQL: https://www.w3schools.com/sql/sql_case.asp "
   ]
  },
  {
   "cell_type": "markdown",
   "metadata": {},
   "source": [
    "Kim, L. (2024, January 29). Kickstarter Data Exploration. https://rstudio-pubs-static.s3.amazonaws.com/1143113_fa2f87ec834e4b0aa8e1a92266455c05.html \n"
   ]
  },
  {
   "cell_type": "markdown",
   "metadata": {},
   "source": [
    "## Questions for Reviewers"
   ]
  },
  {
   "cell_type": "markdown",
   "metadata": {},
   "source": [
    "1. Are we able to calculate the 'strength' of successful campaigns by dividing the amount pledged in USD by the goal in USD in order to normalize for both strong and very weak currencies compared to USD? Should we use the amount pledged in USD instead?\n",
    "2. "
   ]
  }
 ],
 "metadata": {
  "kernelspec": {
   "display_name": "info2950",
   "language": "python",
   "name": "python3"
  },
  "language_info": {
   "codemirror_mode": {
    "name": "ipython",
    "version": 3
   },
   "file_extension": ".py",
   "mimetype": "text/x-python",
   "name": "python",
   "nbconvert_exporter": "python",
   "pygments_lexer": "ipython3",
   "version": "3.12.2"
  }
 },
 "nbformat": 4,
 "nbformat_minor": 4
}
